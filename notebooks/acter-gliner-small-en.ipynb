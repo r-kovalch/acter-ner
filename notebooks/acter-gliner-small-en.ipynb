{
  "nbformat": 4,
  "nbformat_minor": 0,
  "metadata": {
    "colab": {
      "provenance": [],
      "machine_shape": "hm",
      "gpuType": "L4",
      "include_colab_link": true
    },
    "kernelspec": {
      "name": "python3",
      "display_name": "Python 3"
    },
    "language_info": {
      "name": "python"
    },
    "accelerator": "GPU"
  },
  "cells": [
    {
      "cell_type": "markdown",
      "metadata": {
        "id": "view-in-github",
        "colab_type": "text"
      },
      "source": [
        "<a href=\"https://colab.research.google.com/github/r-kovalch/acter-ner/blob/main/notebooks/acter-gliner-small-en.ipynb\" target=\"_parent\"><img src=\"https://colab.research.google.com/assets/colab-badge.svg\" alt=\"Open In Colab\"/></a>"
      ]
    },
    {
      "cell_type": "code",
      "execution_count": null,
      "metadata": {
        "id": "b5X8eBFzlToi"
      },
      "outputs": [],
      "source": [
        "!git clone https://github.com/r-kovalch/acter-ner"
      ]
    },
    {
      "cell_type": "code",
      "source": [
        "!git clone https://github.com/AylaRT/ACTER"
      ],
      "metadata": {
        "id": "anL-YTxVlmw4"
      },
      "execution_count": null,
      "outputs": []
    },
    {
      "cell_type": "code",
      "source": [
        "%cd /content/ACTER"
      ],
      "metadata": {
        "id": "IfCPdbitmcnO"
      },
      "execution_count": null,
      "outputs": []
    },
    {
      "cell_type": "code",
      "source": [
        "%cd /content/acter-ner/term_extractor"
      ],
      "metadata": {
        "id": "U0nNt6v-mJi-"
      },
      "execution_count": null,
      "outputs": []
    },
    {
      "cell_type": "code",
      "source": [
        "ls"
      ],
      "metadata": {
        "id": "tKm-vAEvmQW9"
      },
      "execution_count": null,
      "outputs": []
    },
    {
      "cell_type": "code",
      "source": [
        "!bash combine_corpora_gliner.sh"
      ],
      "metadata": {
        "id": "1WlGm-kRl9tu"
      },
      "execution_count": null,
      "outputs": []
    },
    {
      "cell_type": "code",
      "source": [
        "!spacy convert --converter iob train_full.tsv output && \\\n",
        "  spacy convert --converter iob test_full.tsv output\n"
      ],
      "metadata": {
        "id": "K52AmYesowiq"
      },
      "execution_count": null,
      "outputs": []
    },
    {
      "cell_type": "code",
      "source": [
        "!mkdir -p input_data && \\\n",
        "  mv output/train_full.spacy input_data/train_full.spacy && \\\n",
        "  mv output/test_full.spacy input_data/test_full.spacy"
      ],
      "metadata": {
        "id": "MW4g58A-pgXk"
      },
      "execution_count": null,
      "outputs": []
    },
    {
      "cell_type": "code",
      "source": [
        "!cd input_data && ls"
      ],
      "metadata": {
        "id": "Xhz5NtDedp6t"
      },
      "execution_count": null,
      "outputs": []
    },
    {
      "cell_type": "code",
      "source": [
        "!pip install 'spacy[transformers]' -q\n",
        "!pip install -U \"gliner-spacy>=0.0.11\"  -q # latest release, Jan 2025\n",
        "!pip install -U \"gliner>=0.2.5\"        -q  # core GLiNER lib\n"
      ],
      "metadata": {
        "collapsed": true,
        "id": "hhr_t0BEp5Qs"
      },
      "execution_count": null,
      "outputs": []
    },
    {
      "cell_type": "code",
      "source": [
        "!spacy train configs/config_gliner_small.cfg --output ./model --gpu-id 0"
      ],
      "metadata": {
        "id": "ZaYbLOFUoqhx"
      },
      "execution_count": null,
      "outputs": []
    },
    {
      "cell_type": "code",
      "execution_count": null,
      "outputs": [],
      "source": [
        "# from google.colab import runtime\n",
        "# runtime.unassign()"
      ],
      "metadata": {
        "id": "QWMFPDrSBFQ-"
      }
    }
  ]
}