{
 "nbformat": 4,
 "nbformat_minor": 0,
 "metadata": {
  "colab": {
   "provenance": [],
   "machine_shape": "hm",
   "gpuType": "L4",
   "include_colab_link": true
  },
  "kernelspec": {
   "name": "python3",
   "display_name": "Python 3"
  },
  "language_info": {
   "name": "python"
  },
  "accelerator": "GPU"
 },
 "cells": [
  {
   "cell_type": "markdown",
   "metadata": {
    "id": "view-in-github",
    "colab_type": "text"
   },
   "source": [
    "<a href=\"https://colab.research.google.com/github/r-kovalch/acter-ner/blob/main/notebooks/acter-gliner-small-en.ipynb\" target=\"_parent\"><img src=\"https://colab.research.google.com/assets/colab-badge.svg\" alt=\"Open In Colab\"/></a>"
   ]
  },
  {
   "cell_type": "code",
   "execution_count": 1,
   "metadata": {
    "colab": {
     "base_uri": "https://localhost:8080/"
    },
    "id": "b5X8eBFzlToi",
    "outputId": "de98c9ec-18a3-4526-9ac0-4197202ce770"
   },
   "outputs": [
    {
     "output_type": "stream",
     "name": "stdout",
     "text": [
      "Cloning into 'acter-ner'...\n",
      "remote: Enumerating objects: 263, done.\u001B[K\n",
      "remote: Counting objects: 100% (32/32), done.\u001B[K\n",
      "remote: Compressing objects: 100% (27/27), done.\u001B[K\n",
      "remote: Total 263 (delta 11), reused 7 (delta 5), pack-reused 231 (from 1)\u001B[K\n",
      "Receiving objects: 100% (263/263), 2.43 MiB | 3.50 MiB/s, done.\n",
      "Resolving deltas: 100% (165/165), done.\n"
     ]
    }
   ],
   "source": []
  },
  {
   "cell_type": "code",
   "source": [
    "!git clone https://github.com/AylaRT/ACTER"
   ],
   "metadata": {
    "colab": {
     "base_uri": "https://localhost:8080/"
    },
    "id": "anL-YTxVlmw4",
    "outputId": "2b9ae765-1b50-444d-ca2b-274c9b9afa77"
   },
   "execution_count": 2,
   "outputs": [
    {
     "output_type": "stream",
     "name": "stdout",
     "text": [
      "Cloning into 'ACTER'...\n",
      "remote: Enumerating objects: 5448, done.\u001B[K\n",
      "remote: Counting objects: 100% (5448/5448), done.\u001B[K\n",
      "remote: Compressing objects: 100% (3304/3304), done.\u001B[K\n",
      "remote: Total 5448 (delta 2684), reused 4893 (delta 2132), pack-reused 0 (from 0)\u001B[K\n",
      "Receiving objects: 100% (5448/5448), 11.90 MiB | 10.19 MiB/s, done.\n",
      "Resolving deltas: 100% (2684/2684), done.\n"
     ]
    }
   ]
  },
  {
   "cell_type": "code",
   "source": [
    "%cd /content/ACTER"
   ],
   "metadata": {
    "colab": {
     "base_uri": "https://localhost:8080/"
    },
    "id": "IfCPdbitmcnO",
    "outputId": "392320a0-e454-435f-d377-cdcc78df5391"
   },
   "execution_count": 3,
   "outputs": [
    {
     "output_type": "stream",
     "name": "stdout",
     "text": [
      "/content/ACTER\n"
     ]
    }
   ]
  },
  {
   "cell_type": "code",
   "source": [
    "%cd /content/acter-ner/term_extractor"
   ],
   "metadata": {
    "colab": {
     "base_uri": "https://localhost:8080/"
    },
    "id": "U0nNt6v-mJi-",
    "outputId": "384fd291-2084-4267-ad5b-e613f3b0dc03"
   },
   "execution_count": 4,
   "outputs": [
    {
     "output_type": "stream",
     "name": "stdout",
     "text": [
      "/content/acter-ner/term_extractor\n"
     ]
    }
   ]
  },
  {
   "cell_type": "code",
   "source": [
    "ls"
   ],
   "metadata": {
    "colab": {
     "base_uri": "https://localhost:8080/"
    },
    "id": "tKm-vAEvmQW9",
    "outputId": "25d1f052-6b61-411a-c7cb-e641bd8119b7"
   },
   "execution_count": 5,
   "outputs": [
    {
     "output_type": "stream",
     "name": "stdout",
     "text": [
      "combine_corpora-en-fr-nl.sh  dataset_processor.py        train_full.tsv\n",
      "combine_corpora-en-fr.sh     \u001B[0m\u001B[01;34moutput\u001B[0m/                     train_model.py\n",
      "combine_corpora_gliner.sh    preprocess_acter_gliner.py  train_spacy_model.py\n",
      "combine_corpora.sh           preprocess_acter.py         Untitled.ipynb\n",
      "\u001B[01;34mconfigs\u001B[0m/                     test_full.tsv\n"
     ]
    }
   ]
  },
  {
   "cell_type": "code",
   "source": [
    "!bash combine_corpora_gliner.sh"
   ],
   "metadata": {
    "id": "1WlGm-kRl9tu"
   },
   "execution_count": 6,
   "outputs": []
  },
  {
   "cell_type": "code",
   "execution_count": null,
   "outputs": [],
   "source": [
    "!pip install -U \"gliner>=0.2.19\" \"transformers>=4.51.0\" \\\n",
    "               datasets accelerate evaluate --quiet\n"
   ],
   "metadata": {
    "collapsed": false
   }
  },
  {
   "cell_type": "code",
   "source": [
    "from datasets import load_dataset\n",
    "from gliner import GLiNER, TrainingArguments\n",
    "\n",
    "# 1- Load data ---------------------------------------------------------------\n",
    "dataset = load_dataset(\"json\", data_files={\n",
    "    \"train\": \"/content/train.jsonl\",\n",
    "    \"validation\": \"/content/dev.jsonl\",\n",
    "    \"test\": \"/content/test.jsonl\"\n",
    "})\n",
    "\n",
    "# 2- Pick a base checkpoint --------------------------------------------------\n",
    "model = GLiNER.from_pretrained(\"urchade/gliner_medium-v2.1\")\n",
    "\n",
    "# 3- Define label set (you can also compute it programmatically) -------------\n",
    "label_set = sorted({e[\"label\"] for row in dataset[\"train\"][\"entities\"]\n",
    "                               for e in row})\n",
    "\n",
    "# 4- Training args -----------------------------------------------------------\n",
    "args = TrainingArguments(\n",
    "    output_dir=\"gliner_acter_ft\",\n",
    "    learning_rate=5e-6,\n",
    "    per_device_train_batch_size=8,\n",
    "    per_device_eval_batch_size=8,\n",
    "    num_train_epochs=5,\n",
    "    evaluation_strategy=\"epoch\",\n",
    "    save_strategy=\"epoch\",\n",
    "    fp16=True,                 # works out-of-the-box on Colab A100/T4\n",
    ")\n",
    "\n",
    "# 5- Fine-tune ---------------------------------------------------------------\n",
    "model.fit(\n",
    "    train_dataset=dataset[\"train\"],\n",
    "    eval_dataset=dataset[\"validation\"],\n",
    "    label_list=label_set,\n",
    "    training_args=args,\n",
    ")\n",
    "\n",
    "model.save_pretrained(\"gliner_acter_ft\")\n"
   ],
   "metadata": {
    "id": "K52AmYesowiq",
    "colab": {
     "base_uri": "https://localhost:8080/"
    },
    "outputId": "250a3de3-3fac-4880-8d5f-687058a6460e"
   },
   "execution_count": 7,
   "outputs": [
    {
     "output_type": "stream",
     "name": "stdout",
     "text": [
      "\u001B[38;5;4mℹ Auto-detected token-per-line NER format\u001B[0m\n",
      "\u001B[38;5;4mℹ Grouping every 1 sentences into a document.\u001B[0m\n",
      "\u001B[38;5;3m⚠ To generate better training data, you may want to group sentences\n",
      "into documents with `-n 10`.\u001B[0m\n",
      "\u001B[38;5;2m✔ Generated output file (11329 documents): output/train_full.spacy\u001B[0m\n",
      "\u001B[38;5;4mℹ Auto-detected token-per-line NER format\u001B[0m\n",
      "\u001B[38;5;4mℹ Grouping every 1 sentences into a document.\u001B[0m\n",
      "\u001B[38;5;3m⚠ To generate better training data, you may want to group sentences\n",
      "into documents with `-n 10`.\u001B[0m\n",
      "\u001B[38;5;2m✔ Generated output file (2833 documents): output/test_full.spacy\u001B[0m\n"
     ]
    }
   ]
  },
  {
   "cell_type": "code",
   "execution_count": null,
   "outputs": [],
   "source": [
    "# from google.colab import runtime\n",
    "# runtime.unassign()"
   ],
   "metadata": {
    "id": "QWMFPDrSBFQ-"
   }
  }
 ]
}
