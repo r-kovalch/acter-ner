{
  "nbformat": 4,
  "nbformat_minor": 0,
  "metadata": {
    "colab": {
      "provenance": [],
      "machine_shape": "hm",
      "gpuType": "L4",
      "include_colab_link": true
    },
    "kernelspec": {
      "name": "python3",
      "display_name": "Python 3"
    },
    "language_info": {
      "name": "python"
    },
    "accelerator": "GPU"
  },
  "cells": [
    {
      "cell_type": "markdown",
      "metadata": {
        "id": "view-in-github",
        "colab_type": "text"
      },
      "source": [
        "<a href=\"https://colab.research.google.com/github/r-kovalch/acter-ner/blob/main/notebooks/acter-cvalue-conf2-25-roberta-large-en.ipynb\" target=\"_parent\"><img src=\"https://colab.research.google.com/assets/colab-badge.svg\" alt=\"Open In Colab\"/></a>"
      ]
    },
    {
      "cell_type": "code",
      "execution_count": 1,
      "metadata": {
        "colab": {
          "base_uri": "https://localhost:8080/"
        },
        "id": "b5X8eBFzlToi",
        "outputId": "da219848-6043-4fe9-ad63-a168afee0bfd"
      },
      "outputs": [
        {
          "output_type": "stream",
          "name": "stdout",
          "text": [
            "Cloning into 'acter-ner'...\n",
            "remote: Enumerating objects: 467, done.\u001b[K\n",
            "remote: Counting objects: 100% (236/236), done.\u001b[K\n",
            "remote: Compressing objects: 100% (186/186), done.\u001b[K\n",
            "remote: Total 467 (delta 138), reused 113 (delta 49), pack-reused 231 (from 1)\u001b[K\n",
            "Receiving objects: 100% (467/467), 3.45 MiB | 13.65 MiB/s, done.\n",
            "Resolving deltas: 100% (292/292), done.\n"
          ]
        }
      ],
      "source": [
        "!git clone https://github.com/Reennon/acter-ner"
      ]
    },
    {
      "cell_type": "code",
      "source": [
        "!git clone https://github.com/AylaRT/ACTER"
      ],
      "metadata": {
        "colab": {
          "base_uri": "https://localhost:8080/"
        },
        "id": "anL-YTxVlmw4",
        "outputId": "47e81822-0348-42ba-ac3a-c5f5406178e3"
      },
      "execution_count": 2,
      "outputs": [
        {
          "output_type": "stream",
          "name": "stdout",
          "text": [
            "Cloning into 'ACTER'...\n",
            "remote: Enumerating objects: 5448, done.\u001b[K\n",
            "remote: Counting objects: 100% (5448/5448), done.\u001b[K\n",
            "remote: Compressing objects: 100% (3304/3304), done.\u001b[K\n",
            "remote: Total 5448 (delta 2684), reused 4893 (delta 2132), pack-reused 0 (from 0)\u001b[K\n",
            "Receiving objects: 100% (5448/5448), 11.90 MiB | 17.04 MiB/s, done.\n",
            "Resolving deltas: 100% (2684/2684), done.\n"
          ]
        }
      ]
    },
    {
      "cell_type": "code",
      "source": [
        "%cd /content/ACTER"
      ],
      "metadata": {
        "colab": {
          "base_uri": "https://localhost:8080/"
        },
        "id": "IfCPdbitmcnO",
        "outputId": "7edb20f4-6e88-4984-844c-086aef71e9f8"
      },
      "execution_count": 3,
      "outputs": [
        {
          "output_type": "stream",
          "name": "stdout",
          "text": [
            "/content/ACTER\n"
          ]
        }
      ]
    },
    {
      "cell_type": "code",
      "source": [
        "%cd /content/acter-ner/term_extractor"
      ],
      "metadata": {
        "colab": {
          "base_uri": "https://localhost:8080/"
        },
        "id": "U0nNt6v-mJi-",
        "outputId": "d8dc512f-7a84-48fc-819f-d87d49bcedc7"
      },
      "execution_count": 4,
      "outputs": [
        {
          "output_type": "stream",
          "name": "stdout",
          "text": [
            "/content/acter-ner/term_extractor\n"
          ]
        }
      ]
    },
    {
      "cell_type": "code",
      "source": [
        "ls"
      ],
      "metadata": {
        "colab": {
          "base_uri": "https://localhost:8080/"
        },
        "id": "tKm-vAEvmQW9",
        "outputId": "3c4719f1-0a73-44cf-b0d5-d779727fcf5b"
      },
      "execution_count": 5,
      "outputs": [
        {
          "output_type": "stream",
          "name": "stdout",
          "text": [
            "combine_corpora-en-fr-nl.sh      preprocess_acter_gliner.py\n",
            "combine_corpora-en-fr.sh         preprocess_acter.py\n",
            "combine_corpora_gliner_multi.sh  test_full.tsv\n",
            "combine_corpora_gliner.sh        train_full.tsv\n",
            "combine_corpora.sh               train_model.py\n",
            "\u001b[0m\u001b[01;34mconfigs\u001b[0m/                         train_spacy_model.py\n",
            "dataset_processor.py             Untitled.ipynb\n",
            "\u001b[01;34moutput\u001b[0m/\n"
          ]
        }
      ]
    },
    {
      "cell_type": "code",
      "source": [
        "!bash combine_corpora.sh"
      ],
      "metadata": {
        "id": "1WlGm-kRl9tu",
        "outputId": "4c212330-84a8-4414-c81d-09480ac5ddc2",
        "colab": {
          "base_uri": "https://localhost:8080/"
        }
      },
      "execution_count": 6,
      "outputs": [
        {
          "output_type": "stream",
          "name": "stdout",
          "text": [
            "\n",
            "Processing directory: /content/ACTER/en/corp/annotated/annotations/sequential_annotations/iob_annotations/without_named_entities\n",
            "Processed /content/ACTER/en/corp/annotated/annotations/sequential_annotations/iob_annotations/without_named_entities/corp_en_02_seq_terms.tsv: 59 sentences\n",
            "Processed /content/ACTER/en/corp/annotated/annotations/sequential_annotations/iob_annotations/without_named_entities/corp_en_05_seq_terms.tsv: 51 sentences\n",
            "Processed /content/ACTER/en/corp/annotated/annotations/sequential_annotations/iob_annotations/without_named_entities/corp_en_12_seq_terms.tsv: 278 sentences\n",
            "Processed /content/ACTER/en/corp/annotated/annotations/sequential_annotations/iob_annotations/without_named_entities/corp_en_04_seq_terms.tsv: 62 sentences\n",
            "Processed /content/ACTER/en/corp/annotated/annotations/sequential_annotations/iob_annotations/without_named_entities/corp_en_01_seq_terms.tsv: 227 sentences\n",
            "Processed /content/ACTER/en/corp/annotated/annotations/sequential_annotations/iob_annotations/without_named_entities/corp_en_06_seq_terms.tsv: 364 sentences\n",
            "Processed /content/ACTER/en/corp/annotated/annotations/sequential_annotations/iob_annotations/without_named_entities/corp_en_19_seq_terms.tsv: 56 sentences\n",
            "Processed /content/ACTER/en/corp/annotated/annotations/sequential_annotations/iob_annotations/without_named_entities/corp_en_11_seq_terms.tsv: 273 sentences\n",
            "Processed /content/ACTER/en/corp/annotated/annotations/sequential_annotations/iob_annotations/without_named_entities/corp_en_10_seq_terms.tsv: 28 sentences\n",
            "Processed /content/ACTER/en/corp/annotated/annotations/sequential_annotations/iob_annotations/without_named_entities/corp_en_08_seq_terms.tsv: 163 sentences\n",
            "Processed /content/ACTER/en/corp/annotated/annotations/sequential_annotations/iob_annotations/without_named_entities/corp_en_09_seq_terms.tsv: 107 sentences\n",
            "Processed /content/ACTER/en/corp/annotated/annotations/sequential_annotations/iob_annotations/without_named_entities/corp_en_07_seq_terms.tsv: 334 sentences\n",
            "\n",
            "Processing directory: /content/ACTER/en/equi/annotated/annotations/sequential_annotations/iob_annotations/without_named_entities\n",
            "Processed /content/ACTER/en/equi/annotated/annotations/sequential_annotations/iob_annotations/without_named_entities/equi_en_015_seq_terms.tsv: 36 sentences\n",
            "Processed /content/ACTER/en/equi/annotated/annotations/sequential_annotations/iob_annotations/without_named_entities/equi_en_006_seq_terms.tsv: 9 sentences\n",
            "Processed /content/ACTER/en/equi/annotated/annotations/sequential_annotations/iob_annotations/without_named_entities/equi_en_020_seq_terms.tsv: 30 sentences\n",
            "Processed /content/ACTER/en/equi/annotated/annotations/sequential_annotations/iob_annotations/without_named_entities/equi_en_005_seq_terms.tsv: 24 sentences\n",
            "Processed /content/ACTER/en/equi/annotated/annotations/sequential_annotations/iob_annotations/without_named_entities/equi_en_009_seq_terms.tsv: 26 sentences\n",
            "Processed /content/ACTER/en/equi/annotated/annotations/sequential_annotations/iob_annotations/without_named_entities/equi_en_022_seq_terms.tsv: 22 sentences\n",
            "Processed /content/ACTER/en/equi/annotated/annotations/sequential_annotations/iob_annotations/without_named_entities/equi_en_012_seq_terms.tsv: 37 sentences\n",
            "Processed /content/ACTER/en/equi/annotated/annotations/sequential_annotations/iob_annotations/without_named_entities/equi_en_018_seq_terms.tsv: 8 sentences\n",
            "Processed /content/ACTER/en/equi/annotated/annotations/sequential_annotations/iob_annotations/without_named_entities/equi_en_030_seq_terms.tsv: 173 sentences\n",
            "Processed /content/ACTER/en/equi/annotated/annotations/sequential_annotations/iob_annotations/without_named_entities/equi_en_014_seq_terms.tsv: 67 sentences\n",
            "Processed /content/ACTER/en/equi/annotated/annotations/sequential_annotations/iob_annotations/without_named_entities/equi_en_002_seq_terms.tsv: 265 sentences\n",
            "Processed /content/ACTER/en/equi/annotated/annotations/sequential_annotations/iob_annotations/without_named_entities/equi_en_024_seq_terms.tsv: 19 sentences\n",
            "Processed /content/ACTER/en/equi/annotated/annotations/sequential_annotations/iob_annotations/without_named_entities/equi_en_004_seq_terms.tsv: 41 sentences\n",
            "Processed /content/ACTER/en/equi/annotated/annotations/sequential_annotations/iob_annotations/without_named_entities/equi_en_025_seq_terms.tsv: 97 sentences\n",
            "Processed /content/ACTER/en/equi/annotated/annotations/sequential_annotations/iob_annotations/without_named_entities/equi_en_001_seq_terms.tsv: 304 sentences\n",
            "Processed /content/ACTER/en/equi/annotated/annotations/sequential_annotations/iob_annotations/without_named_entities/equi_en_026_seq_terms.tsv: 149 sentences\n",
            "Processed /content/ACTER/en/equi/annotated/annotations/sequential_annotations/iob_annotations/without_named_entities/equi_en_007_seq_terms.tsv: 28 sentences\n",
            "Processed /content/ACTER/en/equi/annotated/annotations/sequential_annotations/iob_annotations/without_named_entities/equi_en_019_seq_terms.tsv: 65 sentences\n",
            "Processed /content/ACTER/en/equi/annotated/annotations/sequential_annotations/iob_annotations/without_named_entities/equi_en_027_seq_terms.tsv: 46 sentences\n",
            "Processed /content/ACTER/en/equi/annotated/annotations/sequential_annotations/iob_annotations/without_named_entities/equi_en_028_seq_terms.tsv: 70 sentences\n",
            "Processed /content/ACTER/en/equi/annotated/annotations/sequential_annotations/iob_annotations/without_named_entities/equi_en_017_seq_terms.tsv: 57 sentences\n",
            "Processed /content/ACTER/en/equi/annotated/annotations/sequential_annotations/iob_annotations/without_named_entities/equi_en_013_seq_terms.tsv: 74 sentences\n",
            "Processed /content/ACTER/en/equi/annotated/annotations/sequential_annotations/iob_annotations/without_named_entities/equi_en_008_seq_terms.tsv: 101 sentences\n",
            "Processed /content/ACTER/en/equi/annotated/annotations/sequential_annotations/iob_annotations/without_named_entities/equi_en_023_seq_terms.tsv: 104 sentences\n",
            "Processed /content/ACTER/en/equi/annotated/annotations/sequential_annotations/iob_annotations/without_named_entities/equi_en_033_seq_terms.tsv: 180 sentences\n",
            "Processed /content/ACTER/en/equi/annotated/annotations/sequential_annotations/iob_annotations/without_named_entities/equi_en_010_seq_terms.tsv: 126 sentences\n",
            "Processed /content/ACTER/en/equi/annotated/annotations/sequential_annotations/iob_annotations/without_named_entities/equi_en_003_seq_terms.tsv: 74 sentences\n",
            "Processed /content/ACTER/en/equi/annotated/annotations/sequential_annotations/iob_annotations/without_named_entities/equi_en_034_seq_terms.tsv: 175 sentences\n",
            "Processed /content/ACTER/en/equi/annotated/annotations/sequential_annotations/iob_annotations/without_named_entities/equi_en_029_seq_terms.tsv: 316 sentences\n",
            "Processed /content/ACTER/en/equi/annotated/annotations/sequential_annotations/iob_annotations/without_named_entities/equi_en_031_seq_terms.tsv: 36 sentences\n",
            "Processed /content/ACTER/en/equi/annotated/annotations/sequential_annotations/iob_annotations/without_named_entities/equi_en_011_seq_terms.tsv: 45 sentences\n",
            "Processed /content/ACTER/en/equi/annotated/annotations/sequential_annotations/iob_annotations/without_named_entities/equi_en_016_seq_terms.tsv: 88 sentences\n",
            "Processed /content/ACTER/en/equi/annotated/annotations/sequential_annotations/iob_annotations/without_named_entities/equi_en_021_seq_terms.tsv: 144 sentences\n",
            "Processed /content/ACTER/en/equi/annotated/annotations/sequential_annotations/iob_annotations/without_named_entities/equi_en_032_seq_terms.tsv: 54 sentences\n",
            "\n",
            "Processing directory: /content/ACTER/en/htfl/annotated/annotations/sequential_annotations/iob_annotations/without_named_entities\n",
            "Processed /content/ACTER/en/htfl/annotated/annotations/sequential_annotations/iob_annotations/without_named_entities/htfl_en_049_seq_terms.tsv: 17 sentences\n",
            "Processed /content/ACTER/en/htfl/annotated/annotations/sequential_annotations/iob_annotations/without_named_entities/htfl_en_004_seq_terms.tsv: 11 sentences\n",
            "Processed /content/ACTER/en/htfl/annotated/annotations/sequential_annotations/iob_annotations/without_named_entities/htfl_en_086_seq_terms.tsv: 11 sentences\n",
            "Processed /content/ACTER/en/htfl/annotated/annotations/sequential_annotations/iob_annotations/without_named_entities/htfl_en_056_seq_terms.tsv: 13 sentences\n",
            "Processed /content/ACTER/en/htfl/annotated/annotations/sequential_annotations/iob_annotations/without_named_entities/htfl_en_111_seq_terms.tsv: 13 sentences\n",
            "Processed /content/ACTER/en/htfl/annotated/annotations/sequential_annotations/iob_annotations/without_named_entities/htfl_en_136_seq_terms.tsv: 6 sentences\n",
            "Processed /content/ACTER/en/htfl/annotated/annotations/sequential_annotations/iob_annotations/without_named_entities/htfl_en_173_seq_terms.tsv: 9 sentences\n",
            "Processed /content/ACTER/en/htfl/annotated/annotations/sequential_annotations/iob_annotations/without_named_entities/htfl_en_120_seq_terms.tsv: 14 sentences\n",
            "Processed /content/ACTER/en/htfl/annotated/annotations/sequential_annotations/iob_annotations/without_named_entities/htfl_en_038_seq_terms.tsv: 17 sentences\n",
            "Processed /content/ACTER/en/htfl/annotated/annotations/sequential_annotations/iob_annotations/without_named_entities/htfl_en_081_seq_terms.tsv: 15 sentences\n",
            "Processed /content/ACTER/en/htfl/annotated/annotations/sequential_annotations/iob_annotations/without_named_entities/htfl_en_099_seq_terms.tsv: 11 sentences\n",
            "Processed /content/ACTER/en/htfl/annotated/annotations/sequential_annotations/iob_annotations/without_named_entities/htfl_en_134_seq_terms.tsv: 4 sentences\n",
            "Processed /content/ACTER/en/htfl/annotated/annotations/sequential_annotations/iob_annotations/without_named_entities/htfl_en_183_seq_terms.tsv: 14 sentences\n",
            "Processed /content/ACTER/en/htfl/annotated/annotations/sequential_annotations/iob_annotations/without_named_entities/htfl_en_103_seq_terms.tsv: 4 sentences\n",
            "Processed /content/ACTER/en/htfl/annotated/annotations/sequential_annotations/iob_annotations/without_named_entities/htfl_en_071_seq_terms.tsv: 16 sentences\n",
            "Processed /content/ACTER/en/htfl/annotated/annotations/sequential_annotations/iob_annotations/without_named_entities/htfl_en_032_seq_terms.tsv: 17 sentences\n",
            "Processed /content/ACTER/en/htfl/annotated/annotations/sequential_annotations/iob_annotations/without_named_entities/htfl_en_090_seq_terms.tsv: 15 sentences\n",
            "Processed /content/ACTER/en/htfl/annotated/annotations/sequential_annotations/iob_annotations/without_named_entities/htfl_en_161_seq_terms.tsv: 12 sentences\n",
            "Processed /content/ACTER/en/htfl/annotated/annotations/sequential_annotations/iob_annotations/without_named_entities/htfl_en_107_seq_terms.tsv: 14 sentences\n",
            "Processed /content/ACTER/en/htfl/annotated/annotations/sequential_annotations/iob_annotations/without_named_entities/htfl_en_128_seq_terms.tsv: 9 sentences\n",
            "Processed /content/ACTER/en/htfl/annotated/annotations/sequential_annotations/iob_annotations/without_named_entities/htfl_en_112_seq_terms.tsv: 6 sentences\n",
            "Processed /content/ACTER/en/htfl/annotated/annotations/sequential_annotations/iob_annotations/without_named_entities/htfl_en_171_seq_terms.tsv: 6 sentences\n",
            "Processed /content/ACTER/en/htfl/annotated/annotations/sequential_annotations/iob_annotations/without_named_entities/htfl_en_058_seq_terms.tsv: 5 sentences\n",
            "Processed /content/ACTER/en/htfl/annotated/annotations/sequential_annotations/iob_annotations/without_named_entities/htfl_en_181_seq_terms.tsv: 14 sentences\n",
            "Processed /content/ACTER/en/htfl/annotated/annotations/sequential_annotations/iob_annotations/without_named_entities/htfl_en_036_seq_terms.tsv: 17 sentences\n",
            "Processed /content/ACTER/en/htfl/annotated/annotations/sequential_annotations/iob_annotations/without_named_entities/htfl_en_189_seq_terms.tsv: 15 sentences\n",
            "Processed /content/ACTER/en/htfl/annotated/annotations/sequential_annotations/iob_annotations/without_named_entities/htfl_en_012_seq_terms.tsv: 9 sentences\n",
            "Processed /content/ACTER/en/htfl/annotated/annotations/sequential_annotations/iob_annotations/without_named_entities/htfl_en_074_seq_terms.tsv: 14 sentences\n",
            "Processed /content/ACTER/en/htfl/annotated/annotations/sequential_annotations/iob_annotations/without_named_entities/htfl_en_030_seq_terms.tsv: 17 sentences\n",
            "Processed /content/ACTER/en/htfl/annotated/annotations/sequential_annotations/iob_annotations/without_named_entities/htfl_en_091_seq_terms.tsv: 7 sentences\n",
            "Processed /content/ACTER/en/htfl/annotated/annotations/sequential_annotations/iob_annotations/without_named_entities/htfl_en_063_seq_terms.tsv: 15 sentences\n",
            "Processed /content/ACTER/en/htfl/annotated/annotations/sequential_annotations/iob_annotations/without_named_entities/htfl_en_176_seq_terms.tsv: 16 sentences\n",
            "Processed /content/ACTER/en/htfl/annotated/annotations/sequential_annotations/iob_annotations/without_named_entities/htfl_en_050_seq_terms.tsv: 18 sentences\n",
            "Processed /content/ACTER/en/htfl/annotated/annotations/sequential_annotations/iob_annotations/without_named_entities/htfl_en_101_seq_terms.tsv: 16 sentences\n",
            "Processed /content/ACTER/en/htfl/annotated/annotations/sequential_annotations/iob_annotations/without_named_entities/htfl_en_155_seq_terms.tsv: 18 sentences\n",
            "Processed /content/ACTER/en/htfl/annotated/annotations/sequential_annotations/iob_annotations/without_named_entities/htfl_en_098_seq_terms.tsv: 14 sentences\n",
            "Processed /content/ACTER/en/htfl/annotated/annotations/sequential_annotations/iob_annotations/without_named_entities/htfl_en_146_seq_terms.tsv: 8 sentences\n",
            "Processed /content/ACTER/en/htfl/annotated/annotations/sequential_annotations/iob_annotations/without_named_entities/htfl_en_037_seq_terms.tsv: 17 sentences\n",
            "Processed /content/ACTER/en/htfl/annotated/annotations/sequential_annotations/iob_annotations/without_named_entities/htfl_en_094_seq_terms.tsv: 8 sentences\n",
            "Processed /content/ACTER/en/htfl/annotated/annotations/sequential_annotations/iob_annotations/without_named_entities/htfl_en_157_seq_terms.tsv: 8 sentences\n",
            "Processed /content/ACTER/en/htfl/annotated/annotations/sequential_annotations/iob_annotations/without_named_entities/htfl_en_011_seq_terms.tsv: 13 sentences\n",
            "Processed /content/ACTER/en/htfl/annotated/annotations/sequential_annotations/iob_annotations/without_named_entities/htfl_en_005_seq_terms.tsv: 15 sentences\n",
            "Processed /content/ACTER/en/htfl/annotated/annotations/sequential_annotations/iob_annotations/without_named_entities/htfl_en_150_seq_terms.tsv: 8 sentences\n",
            "Processed /content/ACTER/en/htfl/annotated/annotations/sequential_annotations/iob_annotations/without_named_entities/htfl_en_108_seq_terms.tsv: 11 sentences\n",
            "Processed /content/ACTER/en/htfl/annotated/annotations/sequential_annotations/iob_annotations/without_named_entities/htfl_en_177_seq_terms.tsv: 17 sentences\n",
            "Processed /content/ACTER/en/htfl/annotated/annotations/sequential_annotations/iob_annotations/without_named_entities/htfl_en_165_seq_terms.tsv: 7 sentences\n",
            "Processed /content/ACTER/en/htfl/annotated/annotations/sequential_annotations/iob_annotations/without_named_entities/htfl_en_055_seq_terms.tsv: 16 sentences\n",
            "Processed /content/ACTER/en/htfl/annotated/annotations/sequential_annotations/iob_annotations/without_named_entities/htfl_en_170_seq_terms.tsv: 13 sentences\n",
            "Processed /content/ACTER/en/htfl/annotated/annotations/sequential_annotations/iob_annotations/without_named_entities/htfl_en_046_seq_terms.tsv: 13 sentences\n",
            "Processed /content/ACTER/en/htfl/annotated/annotations/sequential_annotations/iob_annotations/without_named_entities/htfl_en_162_seq_terms.tsv: 13 sentences\n",
            "Processed /content/ACTER/en/htfl/annotated/annotations/sequential_annotations/iob_annotations/without_named_entities/htfl_en_187_seq_terms.tsv: 26 sentences\n",
            "Processed /content/ACTER/en/htfl/annotated/annotations/sequential_annotations/iob_annotations/without_named_entities/htfl_en_172_seq_terms.tsv: 4 sentences\n",
            "Processed /content/ACTER/en/htfl/annotated/annotations/sequential_annotations/iob_annotations/without_named_entities/htfl_en_065_seq_terms.tsv: 15 sentences\n",
            "Processed /content/ACTER/en/htfl/annotated/annotations/sequential_annotations/iob_annotations/without_named_entities/htfl_en_109_seq_terms.tsv: 17 sentences\n",
            "Processed /content/ACTER/en/htfl/annotated/annotations/sequential_annotations/iob_annotations/without_named_entities/htfl_en_007_seq_terms.tsv: 3 sentences\n",
            "Processed /content/ACTER/en/htfl/annotated/annotations/sequential_annotations/iob_annotations/without_named_entities/htfl_en_020_seq_terms.tsv: 16 sentences\n",
            "Processed /content/ACTER/en/htfl/annotated/annotations/sequential_annotations/iob_annotations/without_named_entities/htfl_en_117_seq_terms.tsv: 14 sentences\n",
            "Processed /content/ACTER/en/htfl/annotated/annotations/sequential_annotations/iob_annotations/without_named_entities/htfl_en_059_seq_terms.tsv: 7 sentences\n",
            "Processed /content/ACTER/en/htfl/annotated/annotations/sequential_annotations/iob_annotations/without_named_entities/htfl_en_041_seq_terms.tsv: 15 sentences\n",
            "Processed /content/ACTER/en/htfl/annotated/annotations/sequential_annotations/iob_annotations/without_named_entities/htfl_en_156_seq_terms.tsv: 7 sentences\n",
            "Processed /content/ACTER/en/htfl/annotated/annotations/sequential_annotations/iob_annotations/without_named_entities/htfl_en_080_seq_terms.tsv: 11 sentences\n",
            "Processed /content/ACTER/en/htfl/annotated/annotations/sequential_annotations/iob_annotations/without_named_entities/htfl_en_052_seq_terms.tsv: 20 sentences\n",
            "Processed /content/ACTER/en/htfl/annotated/annotations/sequential_annotations/iob_annotations/without_named_entities/htfl_en_028_seq_terms.tsv: 11 sentences\n",
            "Processed /content/ACTER/en/htfl/annotated/annotations/sequential_annotations/iob_annotations/without_named_entities/htfl_en_102_seq_terms.tsv: 13 sentences\n",
            "Processed /content/ACTER/en/htfl/annotated/annotations/sequential_annotations/iob_annotations/without_named_entities/htfl_en_119_seq_terms.tsv: 12 sentences\n",
            "Processed /content/ACTER/en/htfl/annotated/annotations/sequential_annotations/iob_annotations/without_named_entities/htfl_en_088_seq_terms.tsv: 20 sentences\n",
            "Processed /content/ACTER/en/htfl/annotated/annotations/sequential_annotations/iob_annotations/without_named_entities/htfl_en_021_seq_terms.tsv: 6 sentences\n",
            "Processed /content/ACTER/en/htfl/annotated/annotations/sequential_annotations/iob_annotations/without_named_entities/htfl_en_126_seq_terms.tsv: 15 sentences\n",
            "Processed /content/ACTER/en/htfl/annotated/annotations/sequential_annotations/iob_annotations/without_named_entities/htfl_en_130_seq_terms.tsv: 15 sentences\n",
            "Processed /content/ACTER/en/htfl/annotated/annotations/sequential_annotations/iob_annotations/without_named_entities/htfl_en_051_seq_terms.tsv: 13 sentences\n",
            "Processed /content/ACTER/en/htfl/annotated/annotations/sequential_annotations/iob_annotations/without_named_entities/htfl_en_077_seq_terms.tsv: 14 sentences\n",
            "Processed /content/ACTER/en/htfl/annotated/annotations/sequential_annotations/iob_annotations/without_named_entities/htfl_en_023_seq_terms.tsv: 22 sentences\n",
            "Processed /content/ACTER/en/htfl/annotated/annotations/sequential_annotations/iob_annotations/without_named_entities/htfl_en_057_seq_terms.tsv: 17 sentences\n",
            "Processed /content/ACTER/en/htfl/annotated/annotations/sequential_annotations/iob_annotations/without_named_entities/htfl_en_169_seq_terms.tsv: 14 sentences\n",
            "Processed /content/ACTER/en/htfl/annotated/annotations/sequential_annotations/iob_annotations/without_named_entities/htfl_en_114_seq_terms.tsv: 11 sentences\n",
            "Processed /content/ACTER/en/htfl/annotated/annotations/sequential_annotations/iob_annotations/without_named_entities/htfl_en_035_seq_terms.tsv: 15 sentences\n",
            "Processed /content/ACTER/en/htfl/annotated/annotations/sequential_annotations/iob_annotations/without_named_entities/htfl_en_044_seq_terms.tsv: 12 sentences\n",
            "Processed /content/ACTER/en/htfl/annotated/annotations/sequential_annotations/iob_annotations/without_named_entities/htfl_en_097_seq_terms.tsv: 15 sentences\n",
            "Processed /content/ACTER/en/htfl/annotated/annotations/sequential_annotations/iob_annotations/without_named_entities/htfl_en_125_seq_terms.tsv: 14 sentences\n",
            "Processed /content/ACTER/en/htfl/annotated/annotations/sequential_annotations/iob_annotations/without_named_entities/htfl_en_070_seq_terms.tsv: 12 sentences\n",
            "Processed /content/ACTER/en/htfl/annotated/annotations/sequential_annotations/iob_annotations/without_named_entities/htfl_en_013_seq_terms.tsv: 9 sentences\n",
            "Processed /content/ACTER/en/htfl/annotated/annotations/sequential_annotations/iob_annotations/without_named_entities/htfl_en_060_seq_terms.tsv: 6 sentences\n",
            "Processed /content/ACTER/en/htfl/annotated/annotations/sequential_annotations/iob_annotations/without_named_entities/htfl_en_163_seq_terms.tsv: 17 sentences\n",
            "Processed /content/ACTER/en/htfl/annotated/annotations/sequential_annotations/iob_annotations/without_named_entities/htfl_en_087_seq_terms.tsv: 3 sentences\n",
            "Processed /content/ACTER/en/htfl/annotated/annotations/sequential_annotations/iob_annotations/without_named_entities/htfl_en_047_seq_terms.tsv: 18 sentences\n",
            "Processed /content/ACTER/en/htfl/annotated/annotations/sequential_annotations/iob_annotations/without_named_entities/htfl_en_160_seq_terms.tsv: 18 sentences\n",
            "Processed /content/ACTER/en/htfl/annotated/annotations/sequential_annotations/iob_annotations/without_named_entities/htfl_en_141_seq_terms.tsv: 7 sentences\n",
            "Processed /content/ACTER/en/htfl/annotated/annotations/sequential_annotations/iob_annotations/without_named_entities/htfl_en_123_seq_terms.tsv: 11 sentences\n",
            "Processed /content/ACTER/en/htfl/annotated/annotations/sequential_annotations/iob_annotations/without_named_entities/htfl_en_042_seq_terms.tsv: 8 sentences\n",
            "Processed /content/ACTER/en/htfl/annotated/annotations/sequential_annotations/iob_annotations/without_named_entities/htfl_en_078_seq_terms.tsv: 18 sentences\n",
            "Processed /content/ACTER/en/htfl/annotated/annotations/sequential_annotations/iob_annotations/without_named_entities/htfl_en_110_seq_terms.tsv: 14 sentences\n",
            "Processed /content/ACTER/en/htfl/annotated/annotations/sequential_annotations/iob_annotations/without_named_entities/htfl_en_029_seq_terms.tsv: 13 sentences\n",
            "Processed /content/ACTER/en/htfl/annotated/annotations/sequential_annotations/iob_annotations/without_named_entities/htfl_en_184_seq_terms.tsv: 16 sentences\n",
            "Processed /content/ACTER/en/htfl/annotated/annotations/sequential_annotations/iob_annotations/without_named_entities/htfl_en_175_seq_terms.tsv: 24 sentences\n",
            "Processed /content/ACTER/en/htfl/annotated/annotations/sequential_annotations/iob_annotations/without_named_entities/htfl_en_022_seq_terms.tsv: 4 sentences\n",
            "Processed /content/ACTER/en/htfl/annotated/annotations/sequential_annotations/iob_annotations/without_named_entities/htfl_en_188_seq_terms.tsv: 20 sentences\n",
            "Processed /content/ACTER/en/htfl/annotated/annotations/sequential_annotations/iob_annotations/without_named_entities/htfl_en_115_seq_terms.tsv: 13 sentences\n",
            "Processed /content/ACTER/en/htfl/annotated/annotations/sequential_annotations/iob_annotations/without_named_entities/htfl_en_062_seq_terms.tsv: 14 sentences\n",
            "Processed /content/ACTER/en/htfl/annotated/annotations/sequential_annotations/iob_annotations/without_named_entities/htfl_en_079_seq_terms.tsv: 13 sentences\n",
            "Processed /content/ACTER/en/htfl/annotated/annotations/sequential_annotations/iob_annotations/without_named_entities/htfl_en_031_seq_terms.tsv: 12 sentences\n",
            "Processed /content/ACTER/en/htfl/annotated/annotations/sequential_annotations/iob_annotations/without_named_entities/htfl_en_085_seq_terms.tsv: 5 sentences\n",
            "Processed /content/ACTER/en/htfl/annotated/annotations/sequential_annotations/iob_annotations/without_named_entities/htfl_en_127_seq_terms.tsv: 16 sentences\n",
            "Processed /content/ACTER/en/htfl/annotated/annotations/sequential_annotations/iob_annotations/without_named_entities/htfl_en_151_seq_terms.tsv: 13 sentences\n",
            "Processed /content/ACTER/en/htfl/annotated/annotations/sequential_annotations/iob_annotations/without_named_entities/htfl_en_009_seq_terms.tsv: 20 sentences\n",
            "Processed /content/ACTER/en/htfl/annotated/annotations/sequential_annotations/iob_annotations/without_named_entities/htfl_en_174_seq_terms.tsv: 9 sentences\n",
            "Processed /content/ACTER/en/htfl/annotated/annotations/sequential_annotations/iob_annotations/without_named_entities/htfl_en_142_seq_terms.tsv: 17 sentences\n",
            "Processed /content/ACTER/en/htfl/annotated/annotations/sequential_annotations/iob_annotations/without_named_entities/htfl_en_016_seq_terms.tsv: 26 sentences\n",
            "Processed /content/ACTER/en/htfl/annotated/annotations/sequential_annotations/iob_annotations/without_named_entities/htfl_en_002_seq_terms.tsv: 17 sentences\n",
            "Processed /content/ACTER/en/htfl/annotated/annotations/sequential_annotations/iob_annotations/without_named_entities/htfl_en_054_seq_terms.tsv: 23 sentences\n",
            "Processed /content/ACTER/en/htfl/annotated/annotations/sequential_annotations/iob_annotations/without_named_entities/htfl_en_158_seq_terms.tsv: 9 sentences\n",
            "Processed /content/ACTER/en/htfl/annotated/annotations/sequential_annotations/iob_annotations/without_named_entities/htfl_en_093_seq_terms.tsv: 14 sentences\n",
            "Processed /content/ACTER/en/htfl/annotated/annotations/sequential_annotations/iob_annotations/without_named_entities/htfl_en_185_seq_terms.tsv: 20 sentences\n",
            "Processed /content/ACTER/en/htfl/annotated/annotations/sequential_annotations/iob_annotations/without_named_entities/htfl_en_121_seq_terms.tsv: 7 sentences\n",
            "Processed /content/ACTER/en/htfl/annotated/annotations/sequential_annotations/iob_annotations/without_named_entities/htfl_en_003_seq_terms.tsv: 8 sentences\n",
            "Processed /content/ACTER/en/htfl/annotated/annotations/sequential_annotations/iob_annotations/without_named_entities/htfl_en_018_seq_terms.tsv: 7 sentences\n",
            "Processed /content/ACTER/en/htfl/annotated/annotations/sequential_annotations/iob_annotations/without_named_entities/htfl_en_100_seq_terms.tsv: 18 sentences\n",
            "Processed /content/ACTER/en/htfl/annotated/annotations/sequential_annotations/iob_annotations/without_named_entities/htfl_en_105_seq_terms.tsv: 4 sentences\n",
            "Processed /content/ACTER/en/htfl/annotated/annotations/sequential_annotations/iob_annotations/without_named_entities/htfl_en_015_seq_terms.tsv: 17 sentences\n",
            "Processed /content/ACTER/en/htfl/annotated/annotations/sequential_annotations/iob_annotations/without_named_entities/htfl_en_131_seq_terms.tsv: 11 sentences\n",
            "Processed /content/ACTER/en/htfl/annotated/annotations/sequential_annotations/iob_annotations/without_named_entities/htfl_en_138_seq_terms.tsv: 6 sentences\n",
            "Processed /content/ACTER/en/htfl/annotated/annotations/sequential_annotations/iob_annotations/without_named_entities/htfl_en_076_seq_terms.tsv: 15 sentences\n",
            "Processed /content/ACTER/en/htfl/annotated/annotations/sequential_annotations/iob_annotations/without_named_entities/htfl_en_182_seq_terms.tsv: 17 sentences\n",
            "Processed /content/ACTER/en/htfl/annotated/annotations/sequential_annotations/iob_annotations/without_named_entities/htfl_en_053_seq_terms.tsv: 8 sentences\n",
            "Processed /content/ACTER/en/htfl/annotated/annotations/sequential_annotations/iob_annotations/without_named_entities/htfl_en_096_seq_terms.tsv: 14 sentences\n",
            "Processed /content/ACTER/en/htfl/annotated/annotations/sequential_annotations/iob_annotations/without_named_entities/htfl_en_178_seq_terms.tsv: 18 sentences\n",
            "Processed /content/ACTER/en/htfl/annotated/annotations/sequential_annotations/iob_annotations/without_named_entities/htfl_en_072_seq_terms.tsv: 20 sentences\n",
            "Processed /content/ACTER/en/htfl/annotated/annotations/sequential_annotations/iob_annotations/without_named_entities/htfl_en_066_seq_terms.tsv: 16 sentences\n",
            "Processed /content/ACTER/en/htfl/annotated/annotations/sequential_annotations/iob_annotations/without_named_entities/htfl_en_180_seq_terms.tsv: 12 sentences\n",
            "Processed /content/ACTER/en/htfl/annotated/annotations/sequential_annotations/iob_annotations/without_named_entities/htfl_en_027_seq_terms.tsv: 15 sentences\n",
            "Processed /content/ACTER/en/htfl/annotated/annotations/sequential_annotations/iob_annotations/without_named_entities/htfl_en_026_seq_terms.tsv: 21 sentences\n",
            "Processed /content/ACTER/en/htfl/annotated/annotations/sequential_annotations/iob_annotations/without_named_entities/htfl_en_122_seq_terms.tsv: 4 sentences\n",
            "Processed /content/ACTER/en/htfl/annotated/annotations/sequential_annotations/iob_annotations/without_named_entities/htfl_en_069_seq_terms.tsv: 6 sentences\n",
            "Processed /content/ACTER/en/htfl/annotated/annotations/sequential_annotations/iob_annotations/without_named_entities/htfl_en_068_seq_terms.tsv: 14 sentences\n",
            "Processed /content/ACTER/en/htfl/annotated/annotations/sequential_annotations/iob_annotations/without_named_entities/htfl_en_092_seq_terms.tsv: 6 sentences\n",
            "Processed /content/ACTER/en/htfl/annotated/annotations/sequential_annotations/iob_annotations/without_named_entities/htfl_en_116_seq_terms.tsv: 6 sentences\n",
            "Processed /content/ACTER/en/htfl/annotated/annotations/sequential_annotations/iob_annotations/without_named_entities/htfl_en_104_seq_terms.tsv: 5 sentences\n",
            "Processed /content/ACTER/en/htfl/annotated/annotations/sequential_annotations/iob_annotations/without_named_entities/htfl_en_064_seq_terms.tsv: 14 sentences\n",
            "Processed /content/ACTER/en/htfl/annotated/annotations/sequential_annotations/iob_annotations/without_named_entities/htfl_en_167_seq_terms.tsv: 16 sentences\n",
            "Processed /content/ACTER/en/htfl/annotated/annotations/sequential_annotations/iob_annotations/without_named_entities/htfl_en_024_seq_terms.tsv: 12 sentences\n",
            "Processed /content/ACTER/en/htfl/annotated/annotations/sequential_annotations/iob_annotations/without_named_entities/htfl_en_145_seq_terms.tsv: 16 sentences\n",
            "Processed /content/ACTER/en/htfl/annotated/annotations/sequential_annotations/iob_annotations/without_named_entities/htfl_en_152_seq_terms.tsv: 16 sentences\n",
            "Processed /content/ACTER/en/htfl/annotated/annotations/sequential_annotations/iob_annotations/without_named_entities/htfl_en_164_seq_terms.tsv: 16 sentences\n",
            "Processed /content/ACTER/en/htfl/annotated/annotations/sequential_annotations/iob_annotations/without_named_entities/htfl_en_045_seq_terms.tsv: 12 sentences\n",
            "Processed /content/ACTER/en/htfl/annotated/annotations/sequential_annotations/iob_annotations/without_named_entities/htfl_en_168_seq_terms.tsv: 15 sentences\n",
            "Processed /content/ACTER/en/htfl/annotated/annotations/sequential_annotations/iob_annotations/without_named_entities/htfl_en_143_seq_terms.tsv: 11 sentences\n",
            "Processed /content/ACTER/en/htfl/annotated/annotations/sequential_annotations/iob_annotations/without_named_entities/htfl_en_095_seq_terms.tsv: 12 sentences\n",
            "Processed /content/ACTER/en/htfl/annotated/annotations/sequential_annotations/iob_annotations/without_named_entities/htfl_en_014_seq_terms.tsv: 19 sentences\n",
            "Processed /content/ACTER/en/htfl/annotated/annotations/sequential_annotations/iob_annotations/without_named_entities/htfl_en_040_seq_terms.tsv: 10 sentences\n",
            "Processed /content/ACTER/en/htfl/annotated/annotations/sequential_annotations/iob_annotations/without_named_entities/htfl_en_124_seq_terms.tsv: 6 sentences\n",
            "Processed /content/ACTER/en/htfl/annotated/annotations/sequential_annotations/iob_annotations/without_named_entities/htfl_en_159_seq_terms.tsv: 9 sentences\n",
            "Processed /content/ACTER/en/htfl/annotated/annotations/sequential_annotations/iob_annotations/without_named_entities/htfl_en_190_seq_terms.tsv: 6 sentences\n",
            "Processed /content/ACTER/en/htfl/annotated/annotations/sequential_annotations/iob_annotations/without_named_entities/htfl_en_008_seq_terms.tsv: 16 sentences\n",
            "Processed /content/ACTER/en/htfl/annotated/annotations/sequential_annotations/iob_annotations/without_named_entities/htfl_en_149_seq_terms.tsv: 19 sentences\n",
            "Processed /content/ACTER/en/htfl/annotated/annotations/sequential_annotations/iob_annotations/without_named_entities/htfl_en_025_seq_terms.tsv: 10 sentences\n",
            "Processed /content/ACTER/en/htfl/annotated/annotations/sequential_annotations/iob_annotations/without_named_entities/htfl_en_118_seq_terms.tsv: 14 sentences\n",
            "Processed /content/ACTER/en/htfl/annotated/annotations/sequential_annotations/iob_annotations/without_named_entities/htfl_en_089_seq_terms.tsv: 16 sentences\n",
            "Processed /content/ACTER/en/htfl/annotated/annotations/sequential_annotations/iob_annotations/without_named_entities/htfl_en_073_seq_terms.tsv: 17 sentences\n",
            "Processed /content/ACTER/en/htfl/annotated/annotations/sequential_annotations/iob_annotations/without_named_entities/htfl_en_039_seq_terms.tsv: 14 sentences\n",
            "Processed /content/ACTER/en/htfl/annotated/annotations/sequential_annotations/iob_annotations/without_named_entities/htfl_en_137_seq_terms.tsv: 8 sentences\n",
            "Processed /content/ACTER/en/htfl/annotated/annotations/sequential_annotations/iob_annotations/without_named_entities/htfl_en_113_seq_terms.tsv: 7 sentences\n",
            "Processed /content/ACTER/en/htfl/annotated/annotations/sequential_annotations/iob_annotations/without_named_entities/htfl_en_043_seq_terms.tsv: 10 sentences\n",
            "Processed /content/ACTER/en/htfl/annotated/annotations/sequential_annotations/iob_annotations/without_named_entities/htfl_en_017_seq_terms.tsv: 10 sentences\n",
            "Processed /content/ACTER/en/htfl/annotated/annotations/sequential_annotations/iob_annotations/without_named_entities/htfl_en_147_seq_terms.tsv: 12 sentences\n",
            "Processed /content/ACTER/en/htfl/annotated/annotations/sequential_annotations/iob_annotations/without_named_entities/htfl_en_140_seq_terms.tsv: 16 sentences\n",
            "Processed /content/ACTER/en/htfl/annotated/annotations/sequential_annotations/iob_annotations/without_named_entities/htfl_en_179_seq_terms.tsv: 12 sentences\n",
            "Processed /content/ACTER/en/htfl/annotated/annotations/sequential_annotations/iob_annotations/without_named_entities/htfl_en_033_seq_terms.tsv: 49 sentences\n",
            "Processed /content/ACTER/en/htfl/annotated/annotations/sequential_annotations/iob_annotations/without_named_entities/htfl_en_144_seq_terms.tsv: 19 sentences\n",
            "Processed /content/ACTER/en/htfl/annotated/annotations/sequential_annotations/iob_annotations/without_named_entities/htfl_en_135_seq_terms.tsv: 4 sentences\n",
            "Processed /content/ACTER/en/htfl/annotated/annotations/sequential_annotations/iob_annotations/without_named_entities/htfl_en_001_seq_terms.tsv: 8 sentences\n",
            "Processed /content/ACTER/en/htfl/annotated/annotations/sequential_annotations/iob_annotations/without_named_entities/htfl_en_067_seq_terms.tsv: 17 sentences\n",
            "Processed /content/ACTER/en/htfl/annotated/annotations/sequential_annotations/iob_annotations/without_named_entities/htfl_en_166_seq_terms.tsv: 16 sentences\n",
            "Processed /content/ACTER/en/htfl/annotated/annotations/sequential_annotations/iob_annotations/without_named_entities/htfl_en_153_seq_terms.tsv: 20 sentences\n",
            "Processed /content/ACTER/en/htfl/annotated/annotations/sequential_annotations/iob_annotations/without_named_entities/htfl_en_132_seq_terms.tsv: 14 sentences\n",
            "Processed /content/ACTER/en/htfl/annotated/annotations/sequential_annotations/iob_annotations/without_named_entities/htfl_en_084_seq_terms.tsv: 18 sentences\n",
            "Processed /content/ACTER/en/htfl/annotated/annotations/sequential_annotations/iob_annotations/without_named_entities/htfl_en_139_seq_terms.tsv: 5 sentences\n",
            "Processed /content/ACTER/en/htfl/annotated/annotations/sequential_annotations/iob_annotations/without_named_entities/htfl_en_019_seq_terms.tsv: 12 sentences\n",
            "Processed /content/ACTER/en/htfl/annotated/annotations/sequential_annotations/iob_annotations/without_named_entities/htfl_en_048_seq_terms.tsv: 13 sentences\n",
            "Processed /content/ACTER/en/htfl/annotated/annotations/sequential_annotations/iob_annotations/without_named_entities/htfl_en_006_seq_terms.tsv: 3 sentences\n",
            "Processed /content/ACTER/en/htfl/annotated/annotations/sequential_annotations/iob_annotations/without_named_entities/htfl_en_133_seq_terms.tsv: 9 sentences\n",
            "Processed /content/ACTER/en/htfl/annotated/annotations/sequential_annotations/iob_annotations/without_named_entities/htfl_en_106_seq_terms.tsv: 19 sentences\n",
            "Processed /content/ACTER/en/htfl/annotated/annotations/sequential_annotations/iob_annotations/without_named_entities/htfl_en_061_seq_terms.tsv: 7 sentences\n",
            "Processed /content/ACTER/en/htfl/annotated/annotations/sequential_annotations/iob_annotations/without_named_entities/htfl_en_075_seq_terms.tsv: 12 sentences\n",
            "Processed /content/ACTER/en/htfl/annotated/annotations/sequential_annotations/iob_annotations/without_named_entities/htfl_en_083_seq_terms.tsv: 3 sentences\n",
            "Processed /content/ACTER/en/htfl/annotated/annotations/sequential_annotations/iob_annotations/without_named_entities/htfl_en_148_seq_terms.tsv: 7 sentences\n",
            "Processed /content/ACTER/en/htfl/annotated/annotations/sequential_annotations/iob_annotations/without_named_entities/htfl_en_082_seq_terms.tsv: 8 sentences\n",
            "Processed /content/ACTER/en/htfl/annotated/annotations/sequential_annotations/iob_annotations/without_named_entities/htfl_en_186_seq_terms.tsv: 10 sentences\n",
            "Processed /content/ACTER/en/htfl/annotated/annotations/sequential_annotations/iob_annotations/without_named_entities/htfl_en_010_seq_terms.tsv: 4 sentences\n",
            "Processed /content/ACTER/en/htfl/annotated/annotations/sequential_annotations/iob_annotations/without_named_entities/htfl_en_034_seq_terms.tsv: 12 sentences\n",
            "Processed /content/ACTER/en/htfl/annotated/annotations/sequential_annotations/iob_annotations/without_named_entities/htfl_en_129_seq_terms.tsv: 11 sentences\n",
            "Processed /content/ACTER/en/htfl/annotated/annotations/sequential_annotations/iob_annotations/without_named_entities/htfl_en_154_seq_terms.tsv: 17 sentences\n",
            "\n",
            "Processing directory: /content/ACTER/en/wind/annotated/annotations/sequential_annotations/iob_annotations/without_named_entities\n",
            "Processed /content/ACTER/en/wind/annotated/annotations/sequential_annotations/iob_annotations/without_named_entities/wind_en_04_seq_terms.tsv: 338 sentences\n",
            "Processed /content/ACTER/en/wind/annotated/annotations/sequential_annotations/iob_annotations/without_named_entities/wind_en_32_seq_terms.tsv: 154 sentences\n",
            "Processed /content/ACTER/en/wind/annotated/annotations/sequential_annotations/iob_annotations/without_named_entities/wind_en_02_seq_terms.tsv: 776 sentences\n",
            "Processed /content/ACTER/en/wind/annotated/annotations/sequential_annotations/iob_annotations/without_named_entities/wind_en_26_seq_terms.tsv: 111 sentences\n",
            "Processed /content/ACTER/en/wind/annotated/annotations/sequential_annotations/iob_annotations/without_named_entities/wind_en_01_seq_terms.tsv: 5259 sentences\n",
            "\n",
            "Total sentences collected: 14162\n",
            "\n",
            "Split sizes:\n",
            "Train: 11329 sentences\n",
            "Validation: 0 sentences\n",
            "Test: 2833 sentences\n",
            "\n",
            "Writing output files...\n",
            "\n",
            "Dataset preparation completed!\n"
          ]
        }
      ]
    },
    {
      "cell_type": "code",
      "execution_count": 7,
      "outputs": [
        {
          "output_type": "stream",
          "name": "stdout",
          "text": [
            "Mounted at /content/drive\n"
          ]
        }
      ],
      "source": [
        "from google.colab import drive\n",
        "drive.mount('/content/drive')"
      ],
      "metadata": {
        "id": "9VSOjfWBh3Ml",
        "outputId": "cbc070da-ca72-4bd9-d7da-ccf86f4e16ed",
        "colab": {
          "base_uri": "https://localhost:8080/"
        }
      }
    },
    {
      "cell_type": "code",
      "execution_count": 8,
      "outputs": [],
      "source": [
        "!rm train_full.tsv && \\\n",
        "  cp /content/drive/MyDrive/ucu/ner/datasets/train_cvalue_conf2.25.tsv train_full.tsv"
      ],
      "metadata": {
        "id": "RISZncBFh3Ml"
      }
    },
    {
      "cell_type": "code",
      "source": [
        "# Cell X – programmatic IOB‐TSV → DocBin conversion for multiple splits\n",
        "import spacy\n",
        "from spacy.tokens import DocBin, Span\n",
        "from pathlib import Path\n",
        "\n",
        "# 1) Initialize blank pipeline (no models loaded)\n",
        "nlp = spacy.blank(\"en\")\n",
        "\n",
        "# 2) List of (input TSV, desired output .spacy) pairs\n",
        "splits = {\n",
        "    \"train_full.tsv\":   \"train_full.spacy\",\n",
        "    \"test_full.tsv\": \"test_full.spacy\",\n",
        "}\n",
        "\n",
        "# 3) Prepare output directory\n",
        "out_dir = Path(\"output\")\n",
        "out_dir.mkdir(exist_ok=True)\n",
        "\n",
        "# 4) Conversion loop\n",
        "for tsv_name, spacy_name in splits.items():\n",
        "    tsv_path = Path(tsv_name)\n",
        "    if not tsv_path.exists():\n",
        "        print(f\"⚠️  Skipping missing {tsv_name}\")\n",
        "        continue\n",
        "\n",
        "    docbin = DocBin(store_user_data=True)\n",
        "    doc_count = ent_count = 0\n",
        "\n",
        "    # read token-per-line, blank lines separate sentences → we group N sentences into one Doc\n",
        "    # Here we’ll group every sentence as its own Doc (n_sents=1)\n",
        "    words, labels = [], []\n",
        "    with tsv_path.open(\"r\", encoding=\"utf-8\") as f:\n",
        "        for line in f:\n",
        "            line = line.strip()\n",
        "            if not line:\n",
        "                if words:\n",
        "                    doc = spacy.tokens.Doc(nlp.vocab, words=words)\n",
        "                    ents = []\n",
        "                    # scan IOB labels to recover Span(start, end)\n",
        "                    start = None\n",
        "                    for i, tag in enumerate(labels):\n",
        "                        if tag.startswith(\"B\"):\n",
        "                            if start is not None:\n",
        "                                ents.append(Span(doc, start, i, label=\"TERM\"))\n",
        "                            start = i\n",
        "                        elif tag.startswith(\"I\"):\n",
        "                            # continuation\n",
        "                            continue\n",
        "                        else:  # \"O\" or other\n",
        "                            if start is not None:\n",
        "                                ents.append(Span(doc, start, i, label=\"TERM\"))\n",
        "                                start = None\n",
        "                    # catch final\n",
        "                    if start is not None:\n",
        "                        ents.append(Span(doc, start, len(labels), label=\"TERM\"))\n",
        "\n",
        "                    doc.ents = ents\n",
        "                    docbin.add(doc)\n",
        "                    doc_count += 1\n",
        "                    ent_count += len(ents)\n",
        "                    words, labels = [], []\n",
        "                continue\n",
        "\n",
        "            # parse token and IOB label (label may be \"O\" or \"B-TERM\"/\"I-TERM\")\n",
        "            parts = line.split(\"\\t\")\n",
        "            if len(parts) != 2:\n",
        "                continue\n",
        "            tok, tag = parts\n",
        "            words.append(tok)\n",
        "            # normalize to plain \"B\"/\"I\"/\"O\"\n",
        "            if tag.startswith(\"B\"):\n",
        "                labels.append(\"B\")\n",
        "            elif tag.startswith(\"I\"):\n",
        "                labels.append(\"I\")\n",
        "            else:\n",
        "                labels.append(\"O\")\n",
        "\n",
        "        # flush last sentence if missing trailing blank line\n",
        "        if words:\n",
        "            doc = spacy.tokens.Doc(nlp.vocab, words=words)\n",
        "            ents = []\n",
        "            start = None\n",
        "            for i, tag in enumerate(labels):\n",
        "                if tag == \"B\":\n",
        "                    if start is not None:\n",
        "                        ents.append(Span(doc, start, i, label=\"TERM\"))\n",
        "                    start = i\n",
        "                elif tag == \"O\" and start is not None:\n",
        "                    ents.append(Span(doc, start, i, label=\"TERM\"))\n",
        "                    start = None\n",
        "            if start is not None:\n",
        "                ents.append(Span(doc, start, len(labels), label=\"TERM\"))\n",
        "            doc.ents = ents\n",
        "            docbin.add(doc)\n",
        "            doc_count += 1\n",
        "            ent_count += len(ents)\n",
        "\n",
        "    # write out the DocBin\n",
        "    out_path = out_dir / spacy_name\n",
        "    docbin.to_disk(out_path)\n",
        "    print(f\"✅ Converted {tsv_name} → {out_path} \"\n",
        "          f\"({doc_count} docs, {ent_count} entities)\")\n"
      ],
      "metadata": {
        "colab": {
          "base_uri": "https://localhost:8080/"
        },
        "id": "K52AmYesowiq",
        "outputId": "7afe9c41-066e-417b-e2fe-abeac5d7c558"
      },
      "execution_count": 9,
      "outputs": [
        {
          "output_type": "stream",
          "name": "stdout",
          "text": [
            "✅ Converted train_full.tsv → output/train_full.spacy (7113 docs, 9031 entities)\n",
            "✅ Converted test_full.tsv → output/test_full.spacy (2833 docs, 5523 entities)\n"
          ]
        }
      ]
    },
    {
      "cell_type": "code",
      "source": [
        "!mkdir input_data && \\\n",
        "  mv output/train_full.spacy input_data/train_full.spacy && \\\n",
        "  mv output/test_full.spacy input_data/test_full.spacy && \\\n",
        "  mkdir -p /content/drive/MyDrive/ucu/ner/output/acter-cvalue-conf2-25-roberta-large-en"
      ],
      "metadata": {
        "id": "MW4g58A-pgXk"
      },
      "execution_count": 10,
      "outputs": []
    },
    {
      "cell_type": "code",
      "source": [
        "!pip install 'spacy[transformers]' -q"
      ],
      "metadata": {
        "collapsed": true,
        "id": "hhr_t0BEp5Qs",
        "outputId": "14af43d1-d046-4b0b-9c64-191a0f0881e0",
        "colab": {
          "base_uri": "https://localhost:8080/"
        }
      },
      "execution_count": 11,
      "outputs": [
        {
          "output_type": "stream",
          "name": "stdout",
          "text": [
            "\u001b[2K     \u001b[90m━━━━━━━━━━━━━━━━━━━━━━━━━━━━━━━━━━━━━━━━\u001b[0m \u001b[32m44.0/44.0 kB\u001b[0m \u001b[31m3.9 MB/s\u001b[0m eta \u001b[36m0:00:00\u001b[0m\n",
            "\u001b[2K   \u001b[90m━━━━━━━━━━━━━━━━━━━━━━━━━━━━━━━━━━━━━━━━\u001b[0m \u001b[32m756.2/756.2 kB\u001b[0m \u001b[31m53.2 MB/s\u001b[0m eta \u001b[36m0:00:00\u001b[0m\n",
            "\u001b[2K   \u001b[90m━━━━━━━━━━━━━━━━━━━━━━━━━━━━━━━━━━━━━━━━\u001b[0m \u001b[32m314.0/314.0 kB\u001b[0m \u001b[31m31.1 MB/s\u001b[0m eta \u001b[36m0:00:00\u001b[0m\n",
            "\u001b[2K   \u001b[90m━━━━━━━━━━━━━━━━━━━━━━━━━━━━━━━━━━━━━━━━\u001b[0m \u001b[32m363.4/363.4 MB\u001b[0m \u001b[31m3.2 MB/s\u001b[0m eta \u001b[36m0:00:00\u001b[0m\n",
            "\u001b[2K   \u001b[90m━━━━━━━━━━━━━━━━━━━━━━━━━━━━━━━━━━━━━━━━\u001b[0m \u001b[32m13.8/13.8 MB\u001b[0m \u001b[31m128.7 MB/s\u001b[0m eta \u001b[36m0:00:00\u001b[0m\n",
            "\u001b[2K   \u001b[90m━━━━━━━━━━━━━━━━━━━━━━━━━━━━━━━━━━━━━━━━\u001b[0m \u001b[32m24.6/24.6 MB\u001b[0m \u001b[31m101.0 MB/s\u001b[0m eta \u001b[36m0:00:00\u001b[0m\n",
            "\u001b[2K   \u001b[90m━━━━━━━━━━━━━━━━━━━━━━━━━━━━━━━━━━━━━━━━\u001b[0m \u001b[32m883.7/883.7 kB\u001b[0m \u001b[31m57.3 MB/s\u001b[0m eta \u001b[36m0:00:00\u001b[0m\n",
            "\u001b[2K   \u001b[90m━━━━━━━━━━━━━━━━━━━━━━━━━━━━━━━━━━━━━━━━\u001b[0m \u001b[32m664.8/664.8 MB\u001b[0m \u001b[31m2.2 MB/s\u001b[0m eta \u001b[36m0:00:00\u001b[0m\n",
            "\u001b[2K   \u001b[90m━━━━━━━━━━━━━━━━━━━━━━━━━━━━━━━━━━━━━━━━\u001b[0m \u001b[32m211.5/211.5 MB\u001b[0m \u001b[31m5.0 MB/s\u001b[0m eta \u001b[36m0:00:00\u001b[0m\n",
            "\u001b[2K   \u001b[90m━━━━━━━━━━━━━━━━━━━━━━━━━━━━━━━━━━━━━━━━\u001b[0m \u001b[32m56.3/56.3 MB\u001b[0m \u001b[31m44.7 MB/s\u001b[0m eta \u001b[36m0:00:00\u001b[0m\n",
            "\u001b[2K   \u001b[90m━━━━━━━━━━━━━━━━━━━━━━━━━━━━━━━━━━━━━━━━\u001b[0m \u001b[32m127.9/127.9 MB\u001b[0m \u001b[31m20.0 MB/s\u001b[0m eta \u001b[36m0:00:00\u001b[0m\n",
            "\u001b[2K   \u001b[90m━━━━━━━━━━━━━━━━━━━━━━━━━━━━━━━━━━━━━━━━\u001b[0m \u001b[32m207.5/207.5 MB\u001b[0m \u001b[31m5.0 MB/s\u001b[0m eta \u001b[36m0:00:00\u001b[0m\n",
            "\u001b[2K   \u001b[90m━━━━━━━━━━━━━━━━━━━━━━━━━━━━━━━━━━━━━━━━\u001b[0m \u001b[32m21.1/21.1 MB\u001b[0m \u001b[31m107.9 MB/s\u001b[0m eta \u001b[36m0:00:00\u001b[0m\n",
            "\u001b[2K   \u001b[90m━━━━━━━━━━━━━━━━━━━━━━━━━━━━━━━━━━━━━━━━\u001b[0m \u001b[32m10.0/10.0 MB\u001b[0m \u001b[31m93.7 MB/s\u001b[0m eta \u001b[36m0:00:00\u001b[0m\n",
            "\u001b[?25h"
          ]
        }
      ]
    },
    {
      "cell_type": "code",
      "source": [
        "!spacy train configs/config_base.cfg  --gpu-id 0 --output /content/drive/MyDrive/ucu/ner/output/acter-cvalue-conf2-25-roberta-large-en"
      ],
      "metadata": {
        "colab": {
          "base_uri": "https://localhost:8080/"
        },
        "id": "ZaYbLOFUoqhx",
        "outputId": "61b9677e-6079-43a6-b048-69cff616b7dc"
      },
      "execution_count": 12,
      "outputs": [
        {
          "output_type": "stream",
          "name": "stdout",
          "text": [
            "\u001b[38;5;4mℹ Saving to output directory:\n",
            "/content/drive/MyDrive/ucu/ner/output/acter-cvalue-conf2-25-roberta-large-en\u001b[0m\n",
            "\u001b[38;5;4mℹ Using GPU: 0\u001b[0m\n",
            "\u001b[1m\n",
            "=========================== Initializing pipeline ===========================\u001b[0m\n",
            "tokenizer_config.json: 100% 25.0/25.0 [00:00<00:00, 177kB/s]\n",
            "config.json: 100% 482/482 [00:00<00:00, 3.59MB/s]\n",
            "vocab.json: 100% 899k/899k [00:00<00:00, 3.78MB/s]\n",
            "merges.txt: 100% 456k/456k [00:00<00:00, 25.9MB/s]\n",
            "tokenizer.json: 100% 1.36M/1.36M [00:00<00:00, 2.11MB/s]\n",
            "2025-05-19 21:58:51.780410: I tensorflow/core/util/port.cc:153] oneDNN custom operations are on. You may see slightly different numerical results due to floating-point round-off errors from different computation orders. To turn them off, set the environment variable `TF_ENABLE_ONEDNN_OPTS=0`.\n",
            "2025-05-19 21:58:51.798500: E external/local_xla/xla/stream_executor/cuda/cuda_fft.cc:477] Unable to register cuFFT factory: Attempting to register factory for plugin cuFFT when one has already been registered\n",
            "WARNING: All log messages before absl::InitializeLog() is called are written to STDERR\n",
            "E0000 00:00:1747691931.819610    1615 cuda_dnn.cc:8310] Unable to register cuDNN factory: Attempting to register factory for plugin cuDNN when one has already been registered\n",
            "E0000 00:00:1747691931.826018    1615 cuda_blas.cc:1418] Unable to register cuBLAS factory: Attempting to register factory for plugin cuBLAS when one has already been registered\n",
            "2025-05-19 21:58:51.847307: I tensorflow/core/platform/cpu_feature_guard.cc:210] This TensorFlow binary is optimized to use available CPU instructions in performance-critical operations.\n",
            "To enable the following instructions: AVX2 AVX512F AVX512_VNNI FMA, in other operations, rebuild TensorFlow with the appropriate compiler flags.\n",
            "Xet Storage is enabled for this repo, but the 'hf_xet' package is not installed. Falling back to regular HTTP download. For better performance, install the package with: `pip install huggingface_hub[hf_xet]` or `pip install hf_xet`\n",
            "WARNING:huggingface_hub.file_download:Xet Storage is enabled for this repo, but the 'hf_xet' package is not installed. Falling back to regular HTTP download. For better performance, install the package with: `pip install huggingface_hub[hf_xet]` or `pip install hf_xet`\n",
            "model.safetensors: 100% 1.42G/1.42G [00:02<00:00, 544MB/s]\n",
            "Some weights of RobertaModel were not initialized from the model checkpoint at FacebookAI/roberta-large and are newly initialized: ['roberta.pooler.dense.bias', 'roberta.pooler.dense.weight']\n",
            "You should probably TRAIN this model on a down-stream task to be able to use it for predictions and inference.\n",
            "\u001b[38;5;2m✔ Initialized pipeline\u001b[0m\n",
            "\u001b[1m\n",
            "============================= Training pipeline =============================\u001b[0m\n",
            "\u001b[38;5;4mℹ Pipeline: ['transformer', 'ner']\u001b[0m\n",
            "\u001b[38;5;4mℹ Initial learn rate: 1e-05\u001b[0m\n",
            "E    #       LOSS TRANS...  LOSS NER  ENTS_F  ENTS_P  ENTS_R  SCORE \n",
            "---  ------  -------------  --------  ------  ------  ------  ------\n",
            "  0       0          38.42     69.19   14.79    8.33   66.20    0.15\n",
            "  0     200         774.04   1137.31   20.70   25.36   17.49    0.21\n",
            "  0     400         564.07    735.56   18.70   30.82   13.42    0.19\n",
            "  0     600         462.06    671.30   17.64   22.57   14.48    0.18\n",
            "  0     800         430.72    584.63   20.25   29.39   15.44    0.20\n",
            "  0    1000         445.92    617.28   13.99   40.91    8.44    0.14\n",
            "  0    1200         400.73    578.57   11.84   25.84    7.68    0.12\n",
            "  0    1400         374.68    545.95   20.25   24.95   17.04    0.20\n",
            "  0    1600         398.50    529.07   13.32   37.56    8.09    0.13\n",
            "  0    1800         420.47    517.95   17.66   35.48   11.75    0.18\n",
            "\u001b[38;5;2m✔ Saved pipeline to output directory\u001b[0m\n",
            "/content/drive/MyDrive/ucu/ner/output/acter-cvalue-conf2-25-roberta-large-en/model-last\n"
          ]
        }
      ]
    },
    {
      "cell_type": "code",
      "execution_count": 13,
      "outputs": [],
      "source": [
        "from google.colab import runtime\n",
        "runtime.unassign()"
      ],
      "metadata": {
        "id": "KibTdJsah3Mm"
      }
    }
  ]
}