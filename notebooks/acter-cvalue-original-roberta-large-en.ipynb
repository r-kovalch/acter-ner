{
  "nbformat": 4,
  "nbformat_minor": 0,
  "metadata": {
    "colab": {
      "provenance": [],
      "machine_shape": "hm",
      "gpuType": "L4",
      "include_colab_link": true
    },
    "kernelspec": {
      "name": "python3",
      "display_name": "Python 3"
    },
    "language_info": {
      "name": "python"
    },
    "accelerator": "GPU"
  },
  "cells": [
    {
      "cell_type": "markdown",
      "metadata": {
        "id": "view-in-github",
        "colab_type": "text"
      },
      "source": [
        "<a href=\"https://colab.research.google.com/github/r-kovalch/acter-ner/blob/main/notebooks/acter-cvalue-original-roberta-large-en.ipynb\" target=\"_parent\"><img src=\"https://colab.research.google.com/assets/colab-badge.svg\" alt=\"Open In Colab\"/></a>"
      ]
    },
    {
      "cell_type": "code",
      "execution_count": 1,
      "metadata": {
        "colab": {
          "base_uri": "https://localhost:8080/"
        },
        "id": "b5X8eBFzlToi",
        "outputId": "d9da1ef3-1906-4098-9658-35e146f8cdf2"
      },
      "outputs": [
        {
          "output_type": "stream",
          "name": "stdout",
          "text": [
            "Cloning into 'acter-ner'...\n",
            "remote: Enumerating objects: 459, done.\u001b[K\n",
            "remote: Counting objects: 100% (228/228), done.\u001b[K\n",
            "remote: Compressing objects: 100% (180/180), done.\u001b[K\n",
            "remote: Total 459 (delta 132), reused 108 (delta 47), pack-reused 231 (from 1)\u001b[K\n",
            "Receiving objects: 100% (459/459), 3.44 MiB | 8.86 MiB/s, done.\n",
            "Resolving deltas: 100% (286/286), done.\n"
          ]
        }
      ],
      "source": [
        "!git clone https://github.com/Reennon/acter-ner"
      ]
    },
    {
      "cell_type": "code",
      "source": [
        "!git clone https://github.com/AylaRT/ACTER"
      ],
      "metadata": {
        "colab": {
          "base_uri": "https://localhost:8080/"
        },
        "id": "anL-YTxVlmw4",
        "outputId": "de4645fd-1297-4d83-c7b7-4931e6c3e850"
      },
      "execution_count": 2,
      "outputs": [
        {
          "output_type": "stream",
          "name": "stdout",
          "text": [
            "Cloning into 'ACTER'...\n",
            "remote: Enumerating objects: 5448, done.\u001b[K\n",
            "remote: Counting objects: 100% (5448/5448), done.\u001b[K\n",
            "remote: Compressing objects: 100% (3304/3304), done.\u001b[K\n",
            "remote: Total 5448 (delta 2684), reused 4893 (delta 2132), pack-reused 0 (from 0)\u001b[K\n",
            "Receiving objects: 100% (5448/5448), 11.90 MiB | 16.14 MiB/s, done.\n",
            "Resolving deltas: 100% (2684/2684), done.\n"
          ]
        }
      ]
    },
    {
      "cell_type": "code",
      "source": [
        "%cd /content/ACTER"
      ],
      "metadata": {
        "colab": {
          "base_uri": "https://localhost:8080/"
        },
        "id": "IfCPdbitmcnO",
        "outputId": "5b763134-5aa2-4305-b8f8-e04b1faaf604"
      },
      "execution_count": 3,
      "outputs": [
        {
          "output_type": "stream",
          "name": "stdout",
          "text": [
            "/content/ACTER\n"
          ]
        }
      ]
    },
    {
      "cell_type": "code",
      "source": [
        "%cd /content/acter-ner/term_extractor"
      ],
      "metadata": {
        "colab": {
          "base_uri": "https://localhost:8080/"
        },
        "id": "U0nNt6v-mJi-",
        "outputId": "3b56d852-fd1d-4dce-8244-3800972ecec8"
      },
      "execution_count": 4,
      "outputs": [
        {
          "output_type": "stream",
          "name": "stdout",
          "text": [
            "/content/acter-ner/term_extractor\n"
          ]
        }
      ]
    },
    {
      "cell_type": "code",
      "source": [
        "ls"
      ],
      "metadata": {
        "colab": {
          "base_uri": "https://localhost:8080/"
        },
        "id": "tKm-vAEvmQW9",
        "outputId": "6573e88b-bab9-4e15-ef56-6f6f9bd7ce09"
      },
      "execution_count": 5,
      "outputs": [
        {
          "output_type": "stream",
          "name": "stdout",
          "text": [
            "combine_corpora-en-fr-nl.sh      preprocess_acter_gliner.py\n",
            "combine_corpora-en-fr.sh         preprocess_acter.py\n",
            "combine_corpora_gliner_multi.sh  test_full.tsv\n",
            "combine_corpora_gliner.sh        train_full.tsv\n",
            "combine_corpora.sh               train_model.py\n",
            "\u001b[0m\u001b[01;34mconfigs\u001b[0m/                         train_spacy_model.py\n",
            "dataset_processor.py             Untitled.ipynb\n",
            "\u001b[01;34moutput\u001b[0m/\n"
          ]
        }
      ]
    },
    {
      "cell_type": "code",
      "source": [
        "!bash combine_corpora.sh"
      ],
      "metadata": {
        "id": "1WlGm-kRl9tu",
        "colab": {
          "base_uri": "https://localhost:8080/"
        },
        "outputId": "2ffe5d42-cfeb-499b-a5c7-9b1b2d4a1299"
      },
      "execution_count": 6,
      "outputs": [
        {
          "output_type": "stream",
          "name": "stdout",
          "text": [
            "\n",
            "Processing directory: /content/ACTER/en/corp/annotated/annotations/sequential_annotations/iob_annotations/without_named_entities\n",
            "Processed /content/ACTER/en/corp/annotated/annotations/sequential_annotations/iob_annotations/without_named_entities/corp_en_02_seq_terms.tsv: 59 sentences\n",
            "Processed /content/ACTER/en/corp/annotated/annotations/sequential_annotations/iob_annotations/without_named_entities/corp_en_05_seq_terms.tsv: 51 sentences\n",
            "Processed /content/ACTER/en/corp/annotated/annotations/sequential_annotations/iob_annotations/without_named_entities/corp_en_12_seq_terms.tsv: 278 sentences\n",
            "Processed /content/ACTER/en/corp/annotated/annotations/sequential_annotations/iob_annotations/without_named_entities/corp_en_04_seq_terms.tsv: 62 sentences\n",
            "Processed /content/ACTER/en/corp/annotated/annotations/sequential_annotations/iob_annotations/without_named_entities/corp_en_01_seq_terms.tsv: 227 sentences\n",
            "Processed /content/ACTER/en/corp/annotated/annotations/sequential_annotations/iob_annotations/without_named_entities/corp_en_06_seq_terms.tsv: 364 sentences\n",
            "Processed /content/ACTER/en/corp/annotated/annotations/sequential_annotations/iob_annotations/without_named_entities/corp_en_19_seq_terms.tsv: 56 sentences\n",
            "Processed /content/ACTER/en/corp/annotated/annotations/sequential_annotations/iob_annotations/without_named_entities/corp_en_11_seq_terms.tsv: 273 sentences\n",
            "Processed /content/ACTER/en/corp/annotated/annotations/sequential_annotations/iob_annotations/without_named_entities/corp_en_10_seq_terms.tsv: 28 sentences\n",
            "Processed /content/ACTER/en/corp/annotated/annotations/sequential_annotations/iob_annotations/without_named_entities/corp_en_08_seq_terms.tsv: 163 sentences\n",
            "Processed /content/ACTER/en/corp/annotated/annotations/sequential_annotations/iob_annotations/without_named_entities/corp_en_09_seq_terms.tsv: 107 sentences\n",
            "Processed /content/ACTER/en/corp/annotated/annotations/sequential_annotations/iob_annotations/without_named_entities/corp_en_07_seq_terms.tsv: 334 sentences\n",
            "\n",
            "Processing directory: /content/ACTER/en/equi/annotated/annotations/sequential_annotations/iob_annotations/without_named_entities\n",
            "Processed /content/ACTER/en/equi/annotated/annotations/sequential_annotations/iob_annotations/without_named_entities/equi_en_015_seq_terms.tsv: 36 sentences\n",
            "Processed /content/ACTER/en/equi/annotated/annotations/sequential_annotations/iob_annotations/without_named_entities/equi_en_006_seq_terms.tsv: 9 sentences\n",
            "Processed /content/ACTER/en/equi/annotated/annotations/sequential_annotations/iob_annotations/without_named_entities/equi_en_020_seq_terms.tsv: 30 sentences\n",
            "Processed /content/ACTER/en/equi/annotated/annotations/sequential_annotations/iob_annotations/without_named_entities/equi_en_005_seq_terms.tsv: 24 sentences\n",
            "Processed /content/ACTER/en/equi/annotated/annotations/sequential_annotations/iob_annotations/without_named_entities/equi_en_009_seq_terms.tsv: 26 sentences\n",
            "Processed /content/ACTER/en/equi/annotated/annotations/sequential_annotations/iob_annotations/without_named_entities/equi_en_022_seq_terms.tsv: 22 sentences\n",
            "Processed /content/ACTER/en/equi/annotated/annotations/sequential_annotations/iob_annotations/without_named_entities/equi_en_012_seq_terms.tsv: 37 sentences\n",
            "Processed /content/ACTER/en/equi/annotated/annotations/sequential_annotations/iob_annotations/without_named_entities/equi_en_018_seq_terms.tsv: 8 sentences\n",
            "Processed /content/ACTER/en/equi/annotated/annotations/sequential_annotations/iob_annotations/without_named_entities/equi_en_030_seq_terms.tsv: 173 sentences\n",
            "Processed /content/ACTER/en/equi/annotated/annotations/sequential_annotations/iob_annotations/without_named_entities/equi_en_014_seq_terms.tsv: 67 sentences\n",
            "Processed /content/ACTER/en/equi/annotated/annotations/sequential_annotations/iob_annotations/without_named_entities/equi_en_002_seq_terms.tsv: 265 sentences\n",
            "Processed /content/ACTER/en/equi/annotated/annotations/sequential_annotations/iob_annotations/without_named_entities/equi_en_024_seq_terms.tsv: 19 sentences\n",
            "Processed /content/ACTER/en/equi/annotated/annotations/sequential_annotations/iob_annotations/without_named_entities/equi_en_004_seq_terms.tsv: 41 sentences\n",
            "Processed /content/ACTER/en/equi/annotated/annotations/sequential_annotations/iob_annotations/without_named_entities/equi_en_025_seq_terms.tsv: 97 sentences\n",
            "Processed /content/ACTER/en/equi/annotated/annotations/sequential_annotations/iob_annotations/without_named_entities/equi_en_001_seq_terms.tsv: 304 sentences\n",
            "Processed /content/ACTER/en/equi/annotated/annotations/sequential_annotations/iob_annotations/without_named_entities/equi_en_026_seq_terms.tsv: 149 sentences\n",
            "Processed /content/ACTER/en/equi/annotated/annotations/sequential_annotations/iob_annotations/without_named_entities/equi_en_007_seq_terms.tsv: 28 sentences\n",
            "Processed /content/ACTER/en/equi/annotated/annotations/sequential_annotations/iob_annotations/without_named_entities/equi_en_019_seq_terms.tsv: 65 sentences\n",
            "Processed /content/ACTER/en/equi/annotated/annotations/sequential_annotations/iob_annotations/without_named_entities/equi_en_027_seq_terms.tsv: 46 sentences\n",
            "Processed /content/ACTER/en/equi/annotated/annotations/sequential_annotations/iob_annotations/without_named_entities/equi_en_028_seq_terms.tsv: 70 sentences\n",
            "Processed /content/ACTER/en/equi/annotated/annotations/sequential_annotations/iob_annotations/without_named_entities/equi_en_017_seq_terms.tsv: 57 sentences\n",
            "Processed /content/ACTER/en/equi/annotated/annotations/sequential_annotations/iob_annotations/without_named_entities/equi_en_013_seq_terms.tsv: 74 sentences\n",
            "Processed /content/ACTER/en/equi/annotated/annotations/sequential_annotations/iob_annotations/without_named_entities/equi_en_008_seq_terms.tsv: 101 sentences\n",
            "Processed /content/ACTER/en/equi/annotated/annotations/sequential_annotations/iob_annotations/without_named_entities/equi_en_023_seq_terms.tsv: 104 sentences\n",
            "Processed /content/ACTER/en/equi/annotated/annotations/sequential_annotations/iob_annotations/without_named_entities/equi_en_033_seq_terms.tsv: 180 sentences\n",
            "Processed /content/ACTER/en/equi/annotated/annotations/sequential_annotations/iob_annotations/without_named_entities/equi_en_010_seq_terms.tsv: 126 sentences\n",
            "Processed /content/ACTER/en/equi/annotated/annotations/sequential_annotations/iob_annotations/without_named_entities/equi_en_003_seq_terms.tsv: 74 sentences\n",
            "Processed /content/ACTER/en/equi/annotated/annotations/sequential_annotations/iob_annotations/without_named_entities/equi_en_034_seq_terms.tsv: 175 sentences\n",
            "Processed /content/ACTER/en/equi/annotated/annotations/sequential_annotations/iob_annotations/without_named_entities/equi_en_029_seq_terms.tsv: 316 sentences\n",
            "Processed /content/ACTER/en/equi/annotated/annotations/sequential_annotations/iob_annotations/without_named_entities/equi_en_031_seq_terms.tsv: 36 sentences\n",
            "Processed /content/ACTER/en/equi/annotated/annotations/sequential_annotations/iob_annotations/without_named_entities/equi_en_011_seq_terms.tsv: 45 sentences\n",
            "Processed /content/ACTER/en/equi/annotated/annotations/sequential_annotations/iob_annotations/without_named_entities/equi_en_016_seq_terms.tsv: 88 sentences\n",
            "Processed /content/ACTER/en/equi/annotated/annotations/sequential_annotations/iob_annotations/without_named_entities/equi_en_021_seq_terms.tsv: 144 sentences\n",
            "Processed /content/ACTER/en/equi/annotated/annotations/sequential_annotations/iob_annotations/without_named_entities/equi_en_032_seq_terms.tsv: 54 sentences\n",
            "\n",
            "Processing directory: /content/ACTER/en/htfl/annotated/annotations/sequential_annotations/iob_annotations/without_named_entities\n",
            "Processed /content/ACTER/en/htfl/annotated/annotations/sequential_annotations/iob_annotations/without_named_entities/htfl_en_049_seq_terms.tsv: 17 sentences\n",
            "Processed /content/ACTER/en/htfl/annotated/annotations/sequential_annotations/iob_annotations/without_named_entities/htfl_en_004_seq_terms.tsv: 11 sentences\n",
            "Processed /content/ACTER/en/htfl/annotated/annotations/sequential_annotations/iob_annotations/without_named_entities/htfl_en_086_seq_terms.tsv: 11 sentences\n",
            "Processed /content/ACTER/en/htfl/annotated/annotations/sequential_annotations/iob_annotations/without_named_entities/htfl_en_056_seq_terms.tsv: 13 sentences\n",
            "Processed /content/ACTER/en/htfl/annotated/annotations/sequential_annotations/iob_annotations/without_named_entities/htfl_en_111_seq_terms.tsv: 13 sentences\n",
            "Processed /content/ACTER/en/htfl/annotated/annotations/sequential_annotations/iob_annotations/without_named_entities/htfl_en_136_seq_terms.tsv: 6 sentences\n",
            "Processed /content/ACTER/en/htfl/annotated/annotations/sequential_annotations/iob_annotations/without_named_entities/htfl_en_173_seq_terms.tsv: 9 sentences\n",
            "Processed /content/ACTER/en/htfl/annotated/annotations/sequential_annotations/iob_annotations/without_named_entities/htfl_en_120_seq_terms.tsv: 14 sentences\n",
            "Processed /content/ACTER/en/htfl/annotated/annotations/sequential_annotations/iob_annotations/without_named_entities/htfl_en_038_seq_terms.tsv: 17 sentences\n",
            "Processed /content/ACTER/en/htfl/annotated/annotations/sequential_annotations/iob_annotations/without_named_entities/htfl_en_081_seq_terms.tsv: 15 sentences\n",
            "Processed /content/ACTER/en/htfl/annotated/annotations/sequential_annotations/iob_annotations/without_named_entities/htfl_en_099_seq_terms.tsv: 11 sentences\n",
            "Processed /content/ACTER/en/htfl/annotated/annotations/sequential_annotations/iob_annotations/without_named_entities/htfl_en_134_seq_terms.tsv: 4 sentences\n",
            "Processed /content/ACTER/en/htfl/annotated/annotations/sequential_annotations/iob_annotations/without_named_entities/htfl_en_183_seq_terms.tsv: 14 sentences\n",
            "Processed /content/ACTER/en/htfl/annotated/annotations/sequential_annotations/iob_annotations/without_named_entities/htfl_en_103_seq_terms.tsv: 4 sentences\n",
            "Processed /content/ACTER/en/htfl/annotated/annotations/sequential_annotations/iob_annotations/without_named_entities/htfl_en_071_seq_terms.tsv: 16 sentences\n",
            "Processed /content/ACTER/en/htfl/annotated/annotations/sequential_annotations/iob_annotations/without_named_entities/htfl_en_032_seq_terms.tsv: 17 sentences\n",
            "Processed /content/ACTER/en/htfl/annotated/annotations/sequential_annotations/iob_annotations/without_named_entities/htfl_en_090_seq_terms.tsv: 15 sentences\n",
            "Processed /content/ACTER/en/htfl/annotated/annotations/sequential_annotations/iob_annotations/without_named_entities/htfl_en_161_seq_terms.tsv: 12 sentences\n",
            "Processed /content/ACTER/en/htfl/annotated/annotations/sequential_annotations/iob_annotations/without_named_entities/htfl_en_107_seq_terms.tsv: 14 sentences\n",
            "Processed /content/ACTER/en/htfl/annotated/annotations/sequential_annotations/iob_annotations/without_named_entities/htfl_en_128_seq_terms.tsv: 9 sentences\n",
            "Processed /content/ACTER/en/htfl/annotated/annotations/sequential_annotations/iob_annotations/without_named_entities/htfl_en_112_seq_terms.tsv: 6 sentences\n",
            "Processed /content/ACTER/en/htfl/annotated/annotations/sequential_annotations/iob_annotations/without_named_entities/htfl_en_171_seq_terms.tsv: 6 sentences\n",
            "Processed /content/ACTER/en/htfl/annotated/annotations/sequential_annotations/iob_annotations/without_named_entities/htfl_en_058_seq_terms.tsv: 5 sentences\n",
            "Processed /content/ACTER/en/htfl/annotated/annotations/sequential_annotations/iob_annotations/without_named_entities/htfl_en_181_seq_terms.tsv: 14 sentences\n",
            "Processed /content/ACTER/en/htfl/annotated/annotations/sequential_annotations/iob_annotations/without_named_entities/htfl_en_036_seq_terms.tsv: 17 sentences\n",
            "Processed /content/ACTER/en/htfl/annotated/annotations/sequential_annotations/iob_annotations/without_named_entities/htfl_en_189_seq_terms.tsv: 15 sentences\n",
            "Processed /content/ACTER/en/htfl/annotated/annotations/sequential_annotations/iob_annotations/without_named_entities/htfl_en_012_seq_terms.tsv: 9 sentences\n",
            "Processed /content/ACTER/en/htfl/annotated/annotations/sequential_annotations/iob_annotations/without_named_entities/htfl_en_074_seq_terms.tsv: 14 sentences\n",
            "Processed /content/ACTER/en/htfl/annotated/annotations/sequential_annotations/iob_annotations/without_named_entities/htfl_en_030_seq_terms.tsv: 17 sentences\n",
            "Processed /content/ACTER/en/htfl/annotated/annotations/sequential_annotations/iob_annotations/without_named_entities/htfl_en_091_seq_terms.tsv: 7 sentences\n",
            "Processed /content/ACTER/en/htfl/annotated/annotations/sequential_annotations/iob_annotations/without_named_entities/htfl_en_063_seq_terms.tsv: 15 sentences\n",
            "Processed /content/ACTER/en/htfl/annotated/annotations/sequential_annotations/iob_annotations/without_named_entities/htfl_en_176_seq_terms.tsv: 16 sentences\n",
            "Processed /content/ACTER/en/htfl/annotated/annotations/sequential_annotations/iob_annotations/without_named_entities/htfl_en_050_seq_terms.tsv: 18 sentences\n",
            "Processed /content/ACTER/en/htfl/annotated/annotations/sequential_annotations/iob_annotations/without_named_entities/htfl_en_101_seq_terms.tsv: 16 sentences\n",
            "Processed /content/ACTER/en/htfl/annotated/annotations/sequential_annotations/iob_annotations/without_named_entities/htfl_en_155_seq_terms.tsv: 18 sentences\n",
            "Processed /content/ACTER/en/htfl/annotated/annotations/sequential_annotations/iob_annotations/without_named_entities/htfl_en_098_seq_terms.tsv: 14 sentences\n",
            "Processed /content/ACTER/en/htfl/annotated/annotations/sequential_annotations/iob_annotations/without_named_entities/htfl_en_146_seq_terms.tsv: 8 sentences\n",
            "Processed /content/ACTER/en/htfl/annotated/annotations/sequential_annotations/iob_annotations/without_named_entities/htfl_en_037_seq_terms.tsv: 17 sentences\n",
            "Processed /content/ACTER/en/htfl/annotated/annotations/sequential_annotations/iob_annotations/without_named_entities/htfl_en_094_seq_terms.tsv: 8 sentences\n",
            "Processed /content/ACTER/en/htfl/annotated/annotations/sequential_annotations/iob_annotations/without_named_entities/htfl_en_157_seq_terms.tsv: 8 sentences\n",
            "Processed /content/ACTER/en/htfl/annotated/annotations/sequential_annotations/iob_annotations/without_named_entities/htfl_en_011_seq_terms.tsv: 13 sentences\n",
            "Processed /content/ACTER/en/htfl/annotated/annotations/sequential_annotations/iob_annotations/without_named_entities/htfl_en_005_seq_terms.tsv: 15 sentences\n",
            "Processed /content/ACTER/en/htfl/annotated/annotations/sequential_annotations/iob_annotations/without_named_entities/htfl_en_150_seq_terms.tsv: 8 sentences\n",
            "Processed /content/ACTER/en/htfl/annotated/annotations/sequential_annotations/iob_annotations/without_named_entities/htfl_en_108_seq_terms.tsv: 11 sentences\n",
            "Processed /content/ACTER/en/htfl/annotated/annotations/sequential_annotations/iob_annotations/without_named_entities/htfl_en_177_seq_terms.tsv: 17 sentences\n",
            "Processed /content/ACTER/en/htfl/annotated/annotations/sequential_annotations/iob_annotations/without_named_entities/htfl_en_165_seq_terms.tsv: 7 sentences\n",
            "Processed /content/ACTER/en/htfl/annotated/annotations/sequential_annotations/iob_annotations/without_named_entities/htfl_en_055_seq_terms.tsv: 16 sentences\n",
            "Processed /content/ACTER/en/htfl/annotated/annotations/sequential_annotations/iob_annotations/without_named_entities/htfl_en_170_seq_terms.tsv: 13 sentences\n",
            "Processed /content/ACTER/en/htfl/annotated/annotations/sequential_annotations/iob_annotations/without_named_entities/htfl_en_046_seq_terms.tsv: 13 sentences\n",
            "Processed /content/ACTER/en/htfl/annotated/annotations/sequential_annotations/iob_annotations/without_named_entities/htfl_en_162_seq_terms.tsv: 13 sentences\n",
            "Processed /content/ACTER/en/htfl/annotated/annotations/sequential_annotations/iob_annotations/without_named_entities/htfl_en_187_seq_terms.tsv: 26 sentences\n",
            "Processed /content/ACTER/en/htfl/annotated/annotations/sequential_annotations/iob_annotations/without_named_entities/htfl_en_172_seq_terms.tsv: 4 sentences\n",
            "Processed /content/ACTER/en/htfl/annotated/annotations/sequential_annotations/iob_annotations/without_named_entities/htfl_en_065_seq_terms.tsv: 15 sentences\n",
            "Processed /content/ACTER/en/htfl/annotated/annotations/sequential_annotations/iob_annotations/without_named_entities/htfl_en_109_seq_terms.tsv: 17 sentences\n",
            "Processed /content/ACTER/en/htfl/annotated/annotations/sequential_annotations/iob_annotations/without_named_entities/htfl_en_007_seq_terms.tsv: 3 sentences\n",
            "Processed /content/ACTER/en/htfl/annotated/annotations/sequential_annotations/iob_annotations/without_named_entities/htfl_en_020_seq_terms.tsv: 16 sentences\n",
            "Processed /content/ACTER/en/htfl/annotated/annotations/sequential_annotations/iob_annotations/without_named_entities/htfl_en_117_seq_terms.tsv: 14 sentences\n",
            "Processed /content/ACTER/en/htfl/annotated/annotations/sequential_annotations/iob_annotations/without_named_entities/htfl_en_059_seq_terms.tsv: 7 sentences\n",
            "Processed /content/ACTER/en/htfl/annotated/annotations/sequential_annotations/iob_annotations/without_named_entities/htfl_en_041_seq_terms.tsv: 15 sentences\n",
            "Processed /content/ACTER/en/htfl/annotated/annotations/sequential_annotations/iob_annotations/without_named_entities/htfl_en_156_seq_terms.tsv: 7 sentences\n",
            "Processed /content/ACTER/en/htfl/annotated/annotations/sequential_annotations/iob_annotations/without_named_entities/htfl_en_080_seq_terms.tsv: 11 sentences\n",
            "Processed /content/ACTER/en/htfl/annotated/annotations/sequential_annotations/iob_annotations/without_named_entities/htfl_en_052_seq_terms.tsv: 20 sentences\n",
            "Processed /content/ACTER/en/htfl/annotated/annotations/sequential_annotations/iob_annotations/without_named_entities/htfl_en_028_seq_terms.tsv: 11 sentences\n",
            "Processed /content/ACTER/en/htfl/annotated/annotations/sequential_annotations/iob_annotations/without_named_entities/htfl_en_102_seq_terms.tsv: 13 sentences\n",
            "Processed /content/ACTER/en/htfl/annotated/annotations/sequential_annotations/iob_annotations/without_named_entities/htfl_en_119_seq_terms.tsv: 12 sentences\n",
            "Processed /content/ACTER/en/htfl/annotated/annotations/sequential_annotations/iob_annotations/without_named_entities/htfl_en_088_seq_terms.tsv: 20 sentences\n",
            "Processed /content/ACTER/en/htfl/annotated/annotations/sequential_annotations/iob_annotations/without_named_entities/htfl_en_021_seq_terms.tsv: 6 sentences\n",
            "Processed /content/ACTER/en/htfl/annotated/annotations/sequential_annotations/iob_annotations/without_named_entities/htfl_en_126_seq_terms.tsv: 15 sentences\n",
            "Processed /content/ACTER/en/htfl/annotated/annotations/sequential_annotations/iob_annotations/without_named_entities/htfl_en_130_seq_terms.tsv: 15 sentences\n",
            "Processed /content/ACTER/en/htfl/annotated/annotations/sequential_annotations/iob_annotations/without_named_entities/htfl_en_051_seq_terms.tsv: 13 sentences\n",
            "Processed /content/ACTER/en/htfl/annotated/annotations/sequential_annotations/iob_annotations/without_named_entities/htfl_en_077_seq_terms.tsv: 14 sentences\n",
            "Processed /content/ACTER/en/htfl/annotated/annotations/sequential_annotations/iob_annotations/without_named_entities/htfl_en_023_seq_terms.tsv: 22 sentences\n",
            "Processed /content/ACTER/en/htfl/annotated/annotations/sequential_annotations/iob_annotations/without_named_entities/htfl_en_057_seq_terms.tsv: 17 sentences\n",
            "Processed /content/ACTER/en/htfl/annotated/annotations/sequential_annotations/iob_annotations/without_named_entities/htfl_en_169_seq_terms.tsv: 14 sentences\n",
            "Processed /content/ACTER/en/htfl/annotated/annotations/sequential_annotations/iob_annotations/without_named_entities/htfl_en_114_seq_terms.tsv: 11 sentences\n",
            "Processed /content/ACTER/en/htfl/annotated/annotations/sequential_annotations/iob_annotations/without_named_entities/htfl_en_035_seq_terms.tsv: 15 sentences\n",
            "Processed /content/ACTER/en/htfl/annotated/annotations/sequential_annotations/iob_annotations/without_named_entities/htfl_en_044_seq_terms.tsv: 12 sentences\n",
            "Processed /content/ACTER/en/htfl/annotated/annotations/sequential_annotations/iob_annotations/without_named_entities/htfl_en_097_seq_terms.tsv: 15 sentences\n",
            "Processed /content/ACTER/en/htfl/annotated/annotations/sequential_annotations/iob_annotations/without_named_entities/htfl_en_125_seq_terms.tsv: 14 sentences\n",
            "Processed /content/ACTER/en/htfl/annotated/annotations/sequential_annotations/iob_annotations/without_named_entities/htfl_en_070_seq_terms.tsv: 12 sentences\n",
            "Processed /content/ACTER/en/htfl/annotated/annotations/sequential_annotations/iob_annotations/without_named_entities/htfl_en_013_seq_terms.tsv: 9 sentences\n",
            "Processed /content/ACTER/en/htfl/annotated/annotations/sequential_annotations/iob_annotations/without_named_entities/htfl_en_060_seq_terms.tsv: 6 sentences\n",
            "Processed /content/ACTER/en/htfl/annotated/annotations/sequential_annotations/iob_annotations/without_named_entities/htfl_en_163_seq_terms.tsv: 17 sentences\n",
            "Processed /content/ACTER/en/htfl/annotated/annotations/sequential_annotations/iob_annotations/without_named_entities/htfl_en_087_seq_terms.tsv: 3 sentences\n",
            "Processed /content/ACTER/en/htfl/annotated/annotations/sequential_annotations/iob_annotations/without_named_entities/htfl_en_047_seq_terms.tsv: 18 sentences\n",
            "Processed /content/ACTER/en/htfl/annotated/annotations/sequential_annotations/iob_annotations/without_named_entities/htfl_en_160_seq_terms.tsv: 18 sentences\n",
            "Processed /content/ACTER/en/htfl/annotated/annotations/sequential_annotations/iob_annotations/without_named_entities/htfl_en_141_seq_terms.tsv: 7 sentences\n",
            "Processed /content/ACTER/en/htfl/annotated/annotations/sequential_annotations/iob_annotations/without_named_entities/htfl_en_123_seq_terms.tsv: 11 sentences\n",
            "Processed /content/ACTER/en/htfl/annotated/annotations/sequential_annotations/iob_annotations/without_named_entities/htfl_en_042_seq_terms.tsv: 8 sentences\n",
            "Processed /content/ACTER/en/htfl/annotated/annotations/sequential_annotations/iob_annotations/without_named_entities/htfl_en_078_seq_terms.tsv: 18 sentences\n",
            "Processed /content/ACTER/en/htfl/annotated/annotations/sequential_annotations/iob_annotations/without_named_entities/htfl_en_110_seq_terms.tsv: 14 sentences\n",
            "Processed /content/ACTER/en/htfl/annotated/annotations/sequential_annotations/iob_annotations/without_named_entities/htfl_en_029_seq_terms.tsv: 13 sentences\n",
            "Processed /content/ACTER/en/htfl/annotated/annotations/sequential_annotations/iob_annotations/without_named_entities/htfl_en_184_seq_terms.tsv: 16 sentences\n",
            "Processed /content/ACTER/en/htfl/annotated/annotations/sequential_annotations/iob_annotations/without_named_entities/htfl_en_175_seq_terms.tsv: 24 sentences\n",
            "Processed /content/ACTER/en/htfl/annotated/annotations/sequential_annotations/iob_annotations/without_named_entities/htfl_en_022_seq_terms.tsv: 4 sentences\n",
            "Processed /content/ACTER/en/htfl/annotated/annotations/sequential_annotations/iob_annotations/without_named_entities/htfl_en_188_seq_terms.tsv: 20 sentences\n",
            "Processed /content/ACTER/en/htfl/annotated/annotations/sequential_annotations/iob_annotations/without_named_entities/htfl_en_115_seq_terms.tsv: 13 sentences\n",
            "Processed /content/ACTER/en/htfl/annotated/annotations/sequential_annotations/iob_annotations/without_named_entities/htfl_en_062_seq_terms.tsv: 14 sentences\n",
            "Processed /content/ACTER/en/htfl/annotated/annotations/sequential_annotations/iob_annotations/without_named_entities/htfl_en_079_seq_terms.tsv: 13 sentences\n",
            "Processed /content/ACTER/en/htfl/annotated/annotations/sequential_annotations/iob_annotations/without_named_entities/htfl_en_031_seq_terms.tsv: 12 sentences\n",
            "Processed /content/ACTER/en/htfl/annotated/annotations/sequential_annotations/iob_annotations/without_named_entities/htfl_en_085_seq_terms.tsv: 5 sentences\n",
            "Processed /content/ACTER/en/htfl/annotated/annotations/sequential_annotations/iob_annotations/without_named_entities/htfl_en_127_seq_terms.tsv: 16 sentences\n",
            "Processed /content/ACTER/en/htfl/annotated/annotations/sequential_annotations/iob_annotations/without_named_entities/htfl_en_151_seq_terms.tsv: 13 sentences\n",
            "Processed /content/ACTER/en/htfl/annotated/annotations/sequential_annotations/iob_annotations/without_named_entities/htfl_en_009_seq_terms.tsv: 20 sentences\n",
            "Processed /content/ACTER/en/htfl/annotated/annotations/sequential_annotations/iob_annotations/without_named_entities/htfl_en_174_seq_terms.tsv: 9 sentences\n",
            "Processed /content/ACTER/en/htfl/annotated/annotations/sequential_annotations/iob_annotations/without_named_entities/htfl_en_142_seq_terms.tsv: 17 sentences\n",
            "Processed /content/ACTER/en/htfl/annotated/annotations/sequential_annotations/iob_annotations/without_named_entities/htfl_en_016_seq_terms.tsv: 26 sentences\n",
            "Processed /content/ACTER/en/htfl/annotated/annotations/sequential_annotations/iob_annotations/without_named_entities/htfl_en_002_seq_terms.tsv: 17 sentences\n",
            "Processed /content/ACTER/en/htfl/annotated/annotations/sequential_annotations/iob_annotations/without_named_entities/htfl_en_054_seq_terms.tsv: 23 sentences\n",
            "Processed /content/ACTER/en/htfl/annotated/annotations/sequential_annotations/iob_annotations/without_named_entities/htfl_en_158_seq_terms.tsv: 9 sentences\n",
            "Processed /content/ACTER/en/htfl/annotated/annotations/sequential_annotations/iob_annotations/without_named_entities/htfl_en_093_seq_terms.tsv: 14 sentences\n",
            "Processed /content/ACTER/en/htfl/annotated/annotations/sequential_annotations/iob_annotations/without_named_entities/htfl_en_185_seq_terms.tsv: 20 sentences\n",
            "Processed /content/ACTER/en/htfl/annotated/annotations/sequential_annotations/iob_annotations/without_named_entities/htfl_en_121_seq_terms.tsv: 7 sentences\n",
            "Processed /content/ACTER/en/htfl/annotated/annotations/sequential_annotations/iob_annotations/without_named_entities/htfl_en_003_seq_terms.tsv: 8 sentences\n",
            "Processed /content/ACTER/en/htfl/annotated/annotations/sequential_annotations/iob_annotations/without_named_entities/htfl_en_018_seq_terms.tsv: 7 sentences\n",
            "Processed /content/ACTER/en/htfl/annotated/annotations/sequential_annotations/iob_annotations/without_named_entities/htfl_en_100_seq_terms.tsv: 18 sentences\n",
            "Processed /content/ACTER/en/htfl/annotated/annotations/sequential_annotations/iob_annotations/without_named_entities/htfl_en_105_seq_terms.tsv: 4 sentences\n",
            "Processed /content/ACTER/en/htfl/annotated/annotations/sequential_annotations/iob_annotations/without_named_entities/htfl_en_015_seq_terms.tsv: 17 sentences\n",
            "Processed /content/ACTER/en/htfl/annotated/annotations/sequential_annotations/iob_annotations/without_named_entities/htfl_en_131_seq_terms.tsv: 11 sentences\n",
            "Processed /content/ACTER/en/htfl/annotated/annotations/sequential_annotations/iob_annotations/without_named_entities/htfl_en_138_seq_terms.tsv: 6 sentences\n",
            "Processed /content/ACTER/en/htfl/annotated/annotations/sequential_annotations/iob_annotations/without_named_entities/htfl_en_076_seq_terms.tsv: 15 sentences\n",
            "Processed /content/ACTER/en/htfl/annotated/annotations/sequential_annotations/iob_annotations/without_named_entities/htfl_en_182_seq_terms.tsv: 17 sentences\n",
            "Processed /content/ACTER/en/htfl/annotated/annotations/sequential_annotations/iob_annotations/without_named_entities/htfl_en_053_seq_terms.tsv: 8 sentences\n",
            "Processed /content/ACTER/en/htfl/annotated/annotations/sequential_annotations/iob_annotations/without_named_entities/htfl_en_096_seq_terms.tsv: 14 sentences\n",
            "Processed /content/ACTER/en/htfl/annotated/annotations/sequential_annotations/iob_annotations/without_named_entities/htfl_en_178_seq_terms.tsv: 18 sentences\n",
            "Processed /content/ACTER/en/htfl/annotated/annotations/sequential_annotations/iob_annotations/without_named_entities/htfl_en_072_seq_terms.tsv: 20 sentences\n",
            "Processed /content/ACTER/en/htfl/annotated/annotations/sequential_annotations/iob_annotations/without_named_entities/htfl_en_066_seq_terms.tsv: 16 sentences\n",
            "Processed /content/ACTER/en/htfl/annotated/annotations/sequential_annotations/iob_annotations/without_named_entities/htfl_en_180_seq_terms.tsv: 12 sentences\n",
            "Processed /content/ACTER/en/htfl/annotated/annotations/sequential_annotations/iob_annotations/without_named_entities/htfl_en_027_seq_terms.tsv: 15 sentences\n",
            "Processed /content/ACTER/en/htfl/annotated/annotations/sequential_annotations/iob_annotations/without_named_entities/htfl_en_026_seq_terms.tsv: 21 sentences\n",
            "Processed /content/ACTER/en/htfl/annotated/annotations/sequential_annotations/iob_annotations/without_named_entities/htfl_en_122_seq_terms.tsv: 4 sentences\n",
            "Processed /content/ACTER/en/htfl/annotated/annotations/sequential_annotations/iob_annotations/without_named_entities/htfl_en_069_seq_terms.tsv: 6 sentences\n",
            "Processed /content/ACTER/en/htfl/annotated/annotations/sequential_annotations/iob_annotations/without_named_entities/htfl_en_068_seq_terms.tsv: 14 sentences\n",
            "Processed /content/ACTER/en/htfl/annotated/annotations/sequential_annotations/iob_annotations/without_named_entities/htfl_en_092_seq_terms.tsv: 6 sentences\n",
            "Processed /content/ACTER/en/htfl/annotated/annotations/sequential_annotations/iob_annotations/without_named_entities/htfl_en_116_seq_terms.tsv: 6 sentences\n",
            "Processed /content/ACTER/en/htfl/annotated/annotations/sequential_annotations/iob_annotations/without_named_entities/htfl_en_104_seq_terms.tsv: 5 sentences\n",
            "Processed /content/ACTER/en/htfl/annotated/annotations/sequential_annotations/iob_annotations/without_named_entities/htfl_en_064_seq_terms.tsv: 14 sentences\n",
            "Processed /content/ACTER/en/htfl/annotated/annotations/sequential_annotations/iob_annotations/without_named_entities/htfl_en_167_seq_terms.tsv: 16 sentences\n",
            "Processed /content/ACTER/en/htfl/annotated/annotations/sequential_annotations/iob_annotations/without_named_entities/htfl_en_024_seq_terms.tsv: 12 sentences\n",
            "Processed /content/ACTER/en/htfl/annotated/annotations/sequential_annotations/iob_annotations/without_named_entities/htfl_en_145_seq_terms.tsv: 16 sentences\n",
            "Processed /content/ACTER/en/htfl/annotated/annotations/sequential_annotations/iob_annotations/without_named_entities/htfl_en_152_seq_terms.tsv: 16 sentences\n",
            "Processed /content/ACTER/en/htfl/annotated/annotations/sequential_annotations/iob_annotations/without_named_entities/htfl_en_164_seq_terms.tsv: 16 sentences\n",
            "Processed /content/ACTER/en/htfl/annotated/annotations/sequential_annotations/iob_annotations/without_named_entities/htfl_en_045_seq_terms.tsv: 12 sentences\n",
            "Processed /content/ACTER/en/htfl/annotated/annotations/sequential_annotations/iob_annotations/without_named_entities/htfl_en_168_seq_terms.tsv: 15 sentences\n",
            "Processed /content/ACTER/en/htfl/annotated/annotations/sequential_annotations/iob_annotations/without_named_entities/htfl_en_143_seq_terms.tsv: 11 sentences\n",
            "Processed /content/ACTER/en/htfl/annotated/annotations/sequential_annotations/iob_annotations/without_named_entities/htfl_en_095_seq_terms.tsv: 12 sentences\n",
            "Processed /content/ACTER/en/htfl/annotated/annotations/sequential_annotations/iob_annotations/without_named_entities/htfl_en_014_seq_terms.tsv: 19 sentences\n",
            "Processed /content/ACTER/en/htfl/annotated/annotations/sequential_annotations/iob_annotations/without_named_entities/htfl_en_040_seq_terms.tsv: 10 sentences\n",
            "Processed /content/ACTER/en/htfl/annotated/annotations/sequential_annotations/iob_annotations/without_named_entities/htfl_en_124_seq_terms.tsv: 6 sentences\n",
            "Processed /content/ACTER/en/htfl/annotated/annotations/sequential_annotations/iob_annotations/without_named_entities/htfl_en_159_seq_terms.tsv: 9 sentences\n",
            "Processed /content/ACTER/en/htfl/annotated/annotations/sequential_annotations/iob_annotations/without_named_entities/htfl_en_190_seq_terms.tsv: 6 sentences\n",
            "Processed /content/ACTER/en/htfl/annotated/annotations/sequential_annotations/iob_annotations/without_named_entities/htfl_en_008_seq_terms.tsv: 16 sentences\n",
            "Processed /content/ACTER/en/htfl/annotated/annotations/sequential_annotations/iob_annotations/without_named_entities/htfl_en_149_seq_terms.tsv: 19 sentences\n",
            "Processed /content/ACTER/en/htfl/annotated/annotations/sequential_annotations/iob_annotations/without_named_entities/htfl_en_025_seq_terms.tsv: 10 sentences\n",
            "Processed /content/ACTER/en/htfl/annotated/annotations/sequential_annotations/iob_annotations/without_named_entities/htfl_en_118_seq_terms.tsv: 14 sentences\n",
            "Processed /content/ACTER/en/htfl/annotated/annotations/sequential_annotations/iob_annotations/without_named_entities/htfl_en_089_seq_terms.tsv: 16 sentences\n",
            "Processed /content/ACTER/en/htfl/annotated/annotations/sequential_annotations/iob_annotations/without_named_entities/htfl_en_073_seq_terms.tsv: 17 sentences\n",
            "Processed /content/ACTER/en/htfl/annotated/annotations/sequential_annotations/iob_annotations/without_named_entities/htfl_en_039_seq_terms.tsv: 14 sentences\n",
            "Processed /content/ACTER/en/htfl/annotated/annotations/sequential_annotations/iob_annotations/without_named_entities/htfl_en_137_seq_terms.tsv: 8 sentences\n",
            "Processed /content/ACTER/en/htfl/annotated/annotations/sequential_annotations/iob_annotations/without_named_entities/htfl_en_113_seq_terms.tsv: 7 sentences\n",
            "Processed /content/ACTER/en/htfl/annotated/annotations/sequential_annotations/iob_annotations/without_named_entities/htfl_en_043_seq_terms.tsv: 10 sentences\n",
            "Processed /content/ACTER/en/htfl/annotated/annotations/sequential_annotations/iob_annotations/without_named_entities/htfl_en_017_seq_terms.tsv: 10 sentences\n",
            "Processed /content/ACTER/en/htfl/annotated/annotations/sequential_annotations/iob_annotations/without_named_entities/htfl_en_147_seq_terms.tsv: 12 sentences\n",
            "Processed /content/ACTER/en/htfl/annotated/annotations/sequential_annotations/iob_annotations/without_named_entities/htfl_en_140_seq_terms.tsv: 16 sentences\n",
            "Processed /content/ACTER/en/htfl/annotated/annotations/sequential_annotations/iob_annotations/without_named_entities/htfl_en_179_seq_terms.tsv: 12 sentences\n",
            "Processed /content/ACTER/en/htfl/annotated/annotations/sequential_annotations/iob_annotations/without_named_entities/htfl_en_033_seq_terms.tsv: 49 sentences\n",
            "Processed /content/ACTER/en/htfl/annotated/annotations/sequential_annotations/iob_annotations/without_named_entities/htfl_en_144_seq_terms.tsv: 19 sentences\n",
            "Processed /content/ACTER/en/htfl/annotated/annotations/sequential_annotations/iob_annotations/without_named_entities/htfl_en_135_seq_terms.tsv: 4 sentences\n",
            "Processed /content/ACTER/en/htfl/annotated/annotations/sequential_annotations/iob_annotations/without_named_entities/htfl_en_001_seq_terms.tsv: 8 sentences\n",
            "Processed /content/ACTER/en/htfl/annotated/annotations/sequential_annotations/iob_annotations/without_named_entities/htfl_en_067_seq_terms.tsv: 17 sentences\n",
            "Processed /content/ACTER/en/htfl/annotated/annotations/sequential_annotations/iob_annotations/without_named_entities/htfl_en_166_seq_terms.tsv: 16 sentences\n",
            "Processed /content/ACTER/en/htfl/annotated/annotations/sequential_annotations/iob_annotations/without_named_entities/htfl_en_153_seq_terms.tsv: 20 sentences\n",
            "Processed /content/ACTER/en/htfl/annotated/annotations/sequential_annotations/iob_annotations/without_named_entities/htfl_en_132_seq_terms.tsv: 14 sentences\n",
            "Processed /content/ACTER/en/htfl/annotated/annotations/sequential_annotations/iob_annotations/without_named_entities/htfl_en_084_seq_terms.tsv: 18 sentences\n",
            "Processed /content/ACTER/en/htfl/annotated/annotations/sequential_annotations/iob_annotations/without_named_entities/htfl_en_139_seq_terms.tsv: 5 sentences\n",
            "Processed /content/ACTER/en/htfl/annotated/annotations/sequential_annotations/iob_annotations/without_named_entities/htfl_en_019_seq_terms.tsv: 12 sentences\n",
            "Processed /content/ACTER/en/htfl/annotated/annotations/sequential_annotations/iob_annotations/without_named_entities/htfl_en_048_seq_terms.tsv: 13 sentences\n",
            "Processed /content/ACTER/en/htfl/annotated/annotations/sequential_annotations/iob_annotations/without_named_entities/htfl_en_006_seq_terms.tsv: 3 sentences\n",
            "Processed /content/ACTER/en/htfl/annotated/annotations/sequential_annotations/iob_annotations/without_named_entities/htfl_en_133_seq_terms.tsv: 9 sentences\n",
            "Processed /content/ACTER/en/htfl/annotated/annotations/sequential_annotations/iob_annotations/without_named_entities/htfl_en_106_seq_terms.tsv: 19 sentences\n",
            "Processed /content/ACTER/en/htfl/annotated/annotations/sequential_annotations/iob_annotations/without_named_entities/htfl_en_061_seq_terms.tsv: 7 sentences\n",
            "Processed /content/ACTER/en/htfl/annotated/annotations/sequential_annotations/iob_annotations/without_named_entities/htfl_en_075_seq_terms.tsv: 12 sentences\n",
            "Processed /content/ACTER/en/htfl/annotated/annotations/sequential_annotations/iob_annotations/without_named_entities/htfl_en_083_seq_terms.tsv: 3 sentences\n",
            "Processed /content/ACTER/en/htfl/annotated/annotations/sequential_annotations/iob_annotations/without_named_entities/htfl_en_148_seq_terms.tsv: 7 sentences\n",
            "Processed /content/ACTER/en/htfl/annotated/annotations/sequential_annotations/iob_annotations/without_named_entities/htfl_en_082_seq_terms.tsv: 8 sentences\n",
            "Processed /content/ACTER/en/htfl/annotated/annotations/sequential_annotations/iob_annotations/without_named_entities/htfl_en_186_seq_terms.tsv: 10 sentences\n",
            "Processed /content/ACTER/en/htfl/annotated/annotations/sequential_annotations/iob_annotations/without_named_entities/htfl_en_010_seq_terms.tsv: 4 sentences\n",
            "Processed /content/ACTER/en/htfl/annotated/annotations/sequential_annotations/iob_annotations/without_named_entities/htfl_en_034_seq_terms.tsv: 12 sentences\n",
            "Processed /content/ACTER/en/htfl/annotated/annotations/sequential_annotations/iob_annotations/without_named_entities/htfl_en_129_seq_terms.tsv: 11 sentences\n",
            "Processed /content/ACTER/en/htfl/annotated/annotations/sequential_annotations/iob_annotations/without_named_entities/htfl_en_154_seq_terms.tsv: 17 sentences\n",
            "\n",
            "Processing directory: /content/ACTER/en/wind/annotated/annotations/sequential_annotations/iob_annotations/without_named_entities\n",
            "Processed /content/ACTER/en/wind/annotated/annotations/sequential_annotations/iob_annotations/without_named_entities/wind_en_04_seq_terms.tsv: 338 sentences\n",
            "Processed /content/ACTER/en/wind/annotated/annotations/sequential_annotations/iob_annotations/without_named_entities/wind_en_32_seq_terms.tsv: 154 sentences\n",
            "Processed /content/ACTER/en/wind/annotated/annotations/sequential_annotations/iob_annotations/without_named_entities/wind_en_02_seq_terms.tsv: 776 sentences\n",
            "Processed /content/ACTER/en/wind/annotated/annotations/sequential_annotations/iob_annotations/without_named_entities/wind_en_26_seq_terms.tsv: 111 sentences\n",
            "Processed /content/ACTER/en/wind/annotated/annotations/sequential_annotations/iob_annotations/without_named_entities/wind_en_01_seq_terms.tsv: 5259 sentences\n",
            "\n",
            "Total sentences collected: 14162\n",
            "\n",
            "Split sizes:\n",
            "Train: 11329 sentences\n",
            "Validation: 0 sentences\n",
            "Test: 2833 sentences\n",
            "\n",
            "Writing output files...\n",
            "\n",
            "Dataset preparation completed!\n"
          ]
        }
      ]
    },
    {
      "cell_type": "code",
      "execution_count": 7,
      "outputs": [
        {
          "output_type": "stream",
          "name": "stdout",
          "text": [
            "Mounted at /content/drive\n"
          ]
        }
      ],
      "source": [
        "from google.colab import drive\n",
        "drive.mount('/content/drive')"
      ],
      "metadata": {
        "colab": {
          "base_uri": "https://localhost:8080/"
        },
        "id": "js3nZ6k14RQt",
        "outputId": "5f42ab4a-c1d0-4e42-ab4d-e1a01a5a1f97"
      }
    },
    {
      "cell_type": "code",
      "execution_count": 8,
      "outputs": [],
      "source": [
        "!rm train_full.tsv && \\\n",
        "  cp /content/drive/MyDrive/ucu/ner/datasets/train_cvalue_original.tsv train_full.tsv"
      ],
      "metadata": {
        "id": "e86jOOyh4RQt"
      }
    },
    {
      "cell_type": "code",
      "source": [
        "# Cell X – programmatic IOB‐TSV → DocBin conversion for multiple splits\n",
        "import spacy\n",
        "from spacy.tokens import DocBin, Span\n",
        "from pathlib import Path\n",
        "\n",
        "# 1) Initialize blank pipeline (no models loaded)\n",
        "nlp = spacy.blank(\"en\")\n",
        "\n",
        "# 2) List of (input TSV, desired output .spacy) pairs\n",
        "splits = {\n",
        "    \"train_full.tsv\":   \"train_full.spacy\",\n",
        "    \"test_full.tsv\": \"test_full.spacy\",\n",
        "}\n",
        "\n",
        "# 3) Prepare output directory\n",
        "out_dir = Path(\"output\")\n",
        "out_dir.mkdir(exist_ok=True)\n",
        "\n",
        "# 4) Conversion loop\n",
        "for tsv_name, spacy_name in splits.items():\n",
        "    tsv_path = Path(tsv_name)\n",
        "    if not tsv_path.exists():\n",
        "        print(f\"⚠️  Skipping missing {tsv_name}\")\n",
        "        continue\n",
        "\n",
        "    docbin = DocBin(store_user_data=True)\n",
        "    doc_count = ent_count = 0\n",
        "\n",
        "    # read token-per-line, blank lines separate sentences → we group N sentences into one Doc\n",
        "    # Here we’ll group every sentence as its own Doc (n_sents=1)\n",
        "    words, labels = [], []\n",
        "    with tsv_path.open(\"r\", encoding=\"utf-8\") as f:\n",
        "        for line in f:\n",
        "            line = line.strip()\n",
        "            if not line:\n",
        "                if words:\n",
        "                    doc = spacy.tokens.Doc(nlp.vocab, words=words)\n",
        "                    ents = []\n",
        "                    # scan IOB labels to recover Span(start, end)\n",
        "                    start = None\n",
        "                    for i, tag in enumerate(labels):\n",
        "                        if tag.startswith(\"B\"):\n",
        "                            if start is not None:\n",
        "                                ents.append(Span(doc, start, i, label=\"TERM\"))\n",
        "                            start = i\n",
        "                        elif tag.startswith(\"I\"):\n",
        "                            # continuation\n",
        "                            continue\n",
        "                        else:  # \"O\" or other\n",
        "                            if start is not None:\n",
        "                                ents.append(Span(doc, start, i, label=\"TERM\"))\n",
        "                                start = None\n",
        "                    # catch final\n",
        "                    if start is not None:\n",
        "                        ents.append(Span(doc, start, len(labels), label=\"TERM\"))\n",
        "\n",
        "                    doc.ents = ents\n",
        "                    docbin.add(doc)\n",
        "                    doc_count += 1\n",
        "                    ent_count += len(ents)\n",
        "                    words, labels = [], []\n",
        "                continue\n",
        "\n",
        "            # parse token and IOB label (label may be \"O\" or \"B-TERM\"/\"I-TERM\")\n",
        "            parts = line.split(\"\\t\")\n",
        "            if len(parts) != 2:\n",
        "                continue\n",
        "            tok, tag = parts\n",
        "            words.append(tok)\n",
        "            # normalize to plain \"B\"/\"I\"/\"O\"\n",
        "            if tag.startswith(\"B\"):\n",
        "                labels.append(\"B\")\n",
        "            elif tag.startswith(\"I\"):\n",
        "                labels.append(\"I\")\n",
        "            else:\n",
        "                labels.append(\"O\")\n",
        "\n",
        "        # flush last sentence if missing trailing blank line\n",
        "        if words:\n",
        "            doc = spacy.tokens.Doc(nlp.vocab, words=words)\n",
        "            ents = []\n",
        "            start = None\n",
        "            for i, tag in enumerate(labels):\n",
        "                if tag == \"B\":\n",
        "                    if start is not None:\n",
        "                        ents.append(Span(doc, start, i, label=\"TERM\"))\n",
        "                    start = i\n",
        "                elif tag == \"O\" and start is not None:\n",
        "                    ents.append(Span(doc, start, i, label=\"TERM\"))\n",
        "                    start = None\n",
        "            if start is not None:\n",
        "                ents.append(Span(doc, start, len(labels), label=\"TERM\"))\n",
        "            doc.ents = ents\n",
        "            docbin.add(doc)\n",
        "            doc_count += 1\n",
        "            ent_count += len(ents)\n",
        "\n",
        "    # write out the DocBin\n",
        "    out_path = out_dir / spacy_name\n",
        "    docbin.to_disk(out_path)\n",
        "    print(f\"✅ Converted {tsv_name} → {out_path} \"\n",
        "          f\"({doc_count} docs, {ent_count} entities)\")\n"
      ],
      "metadata": {
        "colab": {
          "base_uri": "https://localhost:8080/"
        },
        "id": "K52AmYesowiq",
        "outputId": "51cfe22b-8ce3-4967-a991-0788ff7de518"
      },
      "execution_count": 11,
      "outputs": [
        {
          "output_type": "stream",
          "name": "stdout",
          "text": [
            "✅ Converted train_full.tsv → output/train_full.spacy (11547 docs, 9031 entities)\n",
            "✅ Converted test_full.tsv → output/test_full.spacy (2833 docs, 5523 entities)\n"
          ]
        }
      ]
    },
    {
      "cell_type": "code",
      "source": [
        "!mkdir input_data && \\\n",
        "  mv output/train_full.spacy input_data/train_full.spacy && \\\n",
        "  mv output/test_full.spacy input_data/test_full.spacy && \\\n",
        "  mkdir -p /content/drive/MyDrive/ucu/ner/output/acter-cvalue-original-roberta-large-en"
      ],
      "metadata": {
        "id": "MW4g58A-pgXk"
      },
      "execution_count": 12,
      "outputs": []
    },
    {
      "cell_type": "code",
      "source": [
        "!pip install 'spacy[transformers]' -q"
      ],
      "metadata": {
        "collapsed": true,
        "id": "hhr_t0BEp5Qs",
        "colab": {
          "base_uri": "https://localhost:8080/"
        },
        "outputId": "caf4c265-0395-410e-903c-13db4bce57cf"
      },
      "execution_count": 13,
      "outputs": [
        {
          "output_type": "stream",
          "name": "stdout",
          "text": [
            "\u001b[2K     \u001b[90m━━━━━━━━━━━━━━━━━━━━━━━━━━━━━━━━━━━━━━━━\u001b[0m \u001b[32m44.0/44.0 kB\u001b[0m \u001b[31m2.7 MB/s\u001b[0m eta \u001b[36m0:00:00\u001b[0m\n",
            "\u001b[2K   \u001b[90m━━━━━━━━━━━━━━━━━━━━━━━━━━━━━━━━━━━━━━━━\u001b[0m \u001b[32m756.2/756.2 kB\u001b[0m \u001b[31m24.3 MB/s\u001b[0m eta \u001b[36m0:00:00\u001b[0m\n",
            "\u001b[2K   \u001b[90m━━━━━━━━━━━━━━━━━━━━━━━━━━━━━━━━━━━━━━━━\u001b[0m \u001b[32m314.0/314.0 kB\u001b[0m \u001b[31m35.8 MB/s\u001b[0m eta \u001b[36m0:00:00\u001b[0m\n",
            "\u001b[2K   \u001b[90m━━━━━━━━━━━━━━━━━━━━━━━━━━━━━━━━━━━━━━━━\u001b[0m \u001b[32m363.4/363.4 MB\u001b[0m \u001b[31m3.2 MB/s\u001b[0m eta \u001b[36m0:00:00\u001b[0m\n",
            "\u001b[2K   \u001b[90m━━━━━━━━━━━━━━━━━━━━━━━━━━━━━━━━━━━━━━━━\u001b[0m \u001b[32m13.8/13.8 MB\u001b[0m \u001b[31m125.8 MB/s\u001b[0m eta \u001b[36m0:00:00\u001b[0m\n",
            "\u001b[2K   \u001b[90m━━━━━━━━━━━━━━━━━━━━━━━━━━━━━━━━━━━━━━━━\u001b[0m \u001b[32m24.6/24.6 MB\u001b[0m \u001b[31m97.5 MB/s\u001b[0m eta \u001b[36m0:00:00\u001b[0m\n",
            "\u001b[2K   \u001b[90m━━━━━━━━━━━━━━━━━━━━━━━━━━━━━━━━━━━━━━━━\u001b[0m \u001b[32m883.7/883.7 kB\u001b[0m \u001b[31m65.3 MB/s\u001b[0m eta \u001b[36m0:00:00\u001b[0m\n",
            "\u001b[2K   \u001b[90m━━━━━━━━━━━━━━━━━━━━━━━━━━━━━━━━━━━━━━━━\u001b[0m \u001b[32m664.8/664.8 MB\u001b[0m \u001b[31m2.2 MB/s\u001b[0m eta \u001b[36m0:00:00\u001b[0m\n",
            "\u001b[2K   \u001b[90m━━━━━━━━━━━━━━━━━━━━━━━━━━━━━━━━━━━━━━━━\u001b[0m \u001b[32m211.5/211.5 MB\u001b[0m \u001b[31m5.0 MB/s\u001b[0m eta \u001b[36m0:00:00\u001b[0m\n",
            "\u001b[2K   \u001b[90m━━━━━━━━━━━━━━━━━━━━━━━━━━━━━━━━━━━━━━━━\u001b[0m \u001b[32m56.3/56.3 MB\u001b[0m \u001b[31m42.7 MB/s\u001b[0m eta \u001b[36m0:00:00\u001b[0m\n",
            "\u001b[2K   \u001b[90m━━━━━━━━━━━━━━━━━━━━━━━━━━━━━━━━━━━━━━━━\u001b[0m \u001b[32m127.9/127.9 MB\u001b[0m \u001b[31m19.5 MB/s\u001b[0m eta \u001b[36m0:00:00\u001b[0m\n",
            "\u001b[2K   \u001b[90m━━━━━━━━━━━━━━━━━━━━━━━━━━━━━━━━━━━━━━━━\u001b[0m \u001b[32m207.5/207.5 MB\u001b[0m \u001b[31m5.1 MB/s\u001b[0m eta \u001b[36m0:00:00\u001b[0m\n",
            "\u001b[2K   \u001b[90m━━━━━━━━━━━━━━━━━━━━━━━━━━━━━━━━━━━━━━━━\u001b[0m \u001b[32m21.1/21.1 MB\u001b[0m \u001b[31m114.3 MB/s\u001b[0m eta \u001b[36m0:00:00\u001b[0m\n",
            "\u001b[2K   \u001b[90m━━━━━━━━━━━━━━━━━━━━━━━━━━━━━━━━━━━━━━━━\u001b[0m \u001b[32m10.0/10.0 MB\u001b[0m \u001b[31m143.4 MB/s\u001b[0m eta \u001b[36m0:00:00\u001b[0m\n",
            "\u001b[?25h"
          ]
        }
      ]
    },
    {
      "cell_type": "code",
      "source": [
        "!spacy train configs/config_base.cfg  --gpu-id 0 --output /content/drive/MyDrive/ucu/ner/output/acter-cvalue-original-roberta-large-en"
      ],
      "metadata": {
        "colab": {
          "base_uri": "https://localhost:8080/"
        },
        "id": "ZaYbLOFUoqhx",
        "outputId": "4ce61e99-c896-4c5f-98e1-06eec41a7f80"
      },
      "execution_count": 14,
      "outputs": [
        {
          "output_type": "stream",
          "name": "stdout",
          "text": [
            "\u001b[38;5;4mℹ Saving to output directory:\n",
            "/content/drive/MyDrive/ucu/ner/output/acter-cvalue-original-roberta-large-en\u001b[0m\n",
            "\u001b[38;5;4mℹ Using GPU: 0\u001b[0m\n",
            "\u001b[1m\n",
            "=========================== Initializing pipeline ===========================\u001b[0m\n",
            "tokenizer_config.json: 100% 25.0/25.0 [00:00<00:00, 181kB/s]\n",
            "config.json: 100% 482/482 [00:00<00:00, 3.46MB/s]\n",
            "vocab.json: 100% 899k/899k [00:00<00:00, 6.01MB/s]\n",
            "merges.txt: 100% 456k/456k [00:00<00:00, 3.17MB/s]\n",
            "tokenizer.json: 100% 1.36M/1.36M [00:00<00:00, 16.4MB/s]\n",
            "2025-05-19 21:36:22.919459: I tensorflow/core/util/port.cc:153] oneDNN custom operations are on. You may see slightly different numerical results due to floating-point round-off errors from different computation orders. To turn them off, set the environment variable `TF_ENABLE_ONEDNN_OPTS=0`.\n",
            "2025-05-19 21:36:22.937771: E external/local_xla/xla/stream_executor/cuda/cuda_fft.cc:477] Unable to register cuFFT factory: Attempting to register factory for plugin cuFFT when one has already been registered\n",
            "WARNING: All log messages before absl::InitializeLog() is called are written to STDERR\n",
            "E0000 00:00:1747690582.959465    4989 cuda_dnn.cc:8310] Unable to register cuDNN factory: Attempting to register factory for plugin cuDNN when one has already been registered\n",
            "E0000 00:00:1747690582.966095    4989 cuda_blas.cc:1418] Unable to register cuBLAS factory: Attempting to register factory for plugin cuBLAS when one has already been registered\n",
            "2025-05-19 21:36:22.987846: I tensorflow/core/platform/cpu_feature_guard.cc:210] This TensorFlow binary is optimized to use available CPU instructions in performance-critical operations.\n",
            "To enable the following instructions: AVX2 AVX512F AVX512_VNNI FMA, in other operations, rebuild TensorFlow with the appropriate compiler flags.\n",
            "Xet Storage is enabled for this repo, but the 'hf_xet' package is not installed. Falling back to regular HTTP download. For better performance, install the package with: `pip install huggingface_hub[hf_xet]` or `pip install hf_xet`\n",
            "WARNING:huggingface_hub.file_download:Xet Storage is enabled for this repo, but the 'hf_xet' package is not installed. Falling back to regular HTTP download. For better performance, install the package with: `pip install huggingface_hub[hf_xet]` or `pip install hf_xet`\n",
            "model.safetensors: 100% 1.42G/1.42G [00:05<00:00, 280MB/s]\n",
            "Some weights of RobertaModel were not initialized from the model checkpoint at FacebookAI/roberta-large and are newly initialized: ['roberta.pooler.dense.bias', 'roberta.pooler.dense.weight']\n",
            "You should probably TRAIN this model on a down-stream task to be able to use it for predictions and inference.\n",
            "\u001b[38;5;2m✔ Initialized pipeline\u001b[0m\n",
            "\u001b[1m\n",
            "============================= Training pipeline =============================\u001b[0m\n",
            "\u001b[38;5;4mℹ Pipeline: ['transformer', 'ner']\u001b[0m\n",
            "\u001b[38;5;4mℹ Initial learn rate: 1e-05\u001b[0m\n",
            "E    #       LOSS TRANS...  LOSS NER  ENTS_F  ENTS_P  ENTS_R  SCORE \n",
            "---  ------  -------------  --------  ------  ------  ------  ------\n",
            "  0       0          37.54     67.44   14.79    8.33   66.20    0.15\n",
            "  0     200         670.87    921.29    1.73   38.58    0.89    0.02\n",
            "  0     400         435.29    615.08    1.75   17.00    0.92    0.02\n",
            "  0     600         450.73    561.98   15.49   50.05    9.16    0.15\n",
            "  0     800         371.68    529.17   19.04   42.40   12.28    0.19\n",
            "  0    1000         326.03    481.40   19.60   39.84   13.00    0.20\n",
            "  0    1200         316.18    459.25   13.45   47.84    7.82    0.13\n",
            "  0    1400         340.32    515.06   15.89   39.91    9.92    0.16\n",
            "  0    1600         340.39    488.46   18.42   37.22   12.24    0.18\n",
            "  0    1800         336.15    455.18   20.28   43.78   13.20    0.20\n",
            "  0    2000         331.87    460.51   16.21   44.58    9.90    0.16\n",
            "  0    2200         257.16    410.66   16.60   36.35   10.76    0.17\n",
            "  0    2400         315.29    441.96   20.40   34.17   14.54    0.20\n",
            "  0    2600         306.12    456.78   16.09   39.23   10.12    0.16\n",
            "  0    2800         267.36    414.67   18.09   34.12   12.31    0.18\n",
            "  0    3000         257.37    407.15   17.47   35.16   11.62    0.17\n",
            "  0    3200         277.39    386.99   11.36   57.62    6.30    0.11\n",
            "  0    3400         256.43    395.51   18.93   38.05   12.60    0.19\n",
            "  0    3600         257.01    390.97   19.16   33.87   13.36    0.19\n",
            "  0    3800         309.94    444.41   14.35   36.85    8.91    0.14\n",
            "  1    4000         184.75    311.63   16.11   43.47    9.89    0.16\n",
            "\u001b[38;5;2m✔ Saved pipeline to output directory\u001b[0m\n",
            "/content/drive/MyDrive/ucu/ner/output/acter-cvalue-original-roberta-large-en/model-last\n"
          ]
        }
      ]
    },
    {
      "cell_type": "code",
      "execution_count": 15,
      "outputs": [],
      "source": [
        "from google.colab import runtime\n",
        "runtime.unassign()"
      ],
      "metadata": {
        "id": "Loua-m-K4RQu"
      }
    }
  ]
}