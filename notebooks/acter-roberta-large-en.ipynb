{
 "nbformat": 4,
 "nbformat_minor": 0,
 "metadata": {
  "colab": {
   "provenance": [],
   "authorship_tag": "ABX9TyP1aPREzrBMdBtp0jhcuP7v",
   "include_colab_link": true
  },
  "kernelspec": {
   "name": "python3",
   "display_name": "Python 3"
  },
  "language_info": {
   "name": "python"
  }
 },
 "cells": [
  {
   "cell_type": "markdown",
   "metadata": {
    "id": "view-in-github",
    "colab_type": "text"
   },
   "source": [
    "<a href=\"https://colab.research.google.com/github/Reennon/acter-ner/blob/colab-dry-run/notebooks/dry-run\" target=\"_parent\"><img src=\"https://colab.research.google.com/assets/colab-badge.svg\" alt=\"Open In Colab\"/></a>"
   ]
  },
  {
   "cell_type": "code",
   "execution_count": null,
   "metadata": {
    "colab": {
     "base_uri": "https://localhost:8080/"
    },
    "id": "b5X8eBFzlToi",
    "outputId": "92de2a74-a4a4-4c3e-ed34-5dd29d00a313"
   },
   "outputs": [],
   "source": [
    "!git clone https://github.com/Reennon/acter-ner"
   ]
  },
  {
   "cell_type": "code",
   "source": [
    "!git clone https://github.com/AylaRT/ACTER"
   ],
   "metadata": {
    "colab": {
     "base_uri": "https://localhost:8080/"
    },
    "id": "anL-YTxVlmw4",
    "outputId": "a56a4fb4-fa48-4ea6-99ad-61725ca88791"
   },
   "execution_count": null,
   "outputs": []
  },
  {
   "cell_type": "code",
   "source": [
    "%cd /content/ACTER"
   ],
   "metadata": {
    "colab": {
     "base_uri": "https://localhost:8080/"
    },
    "id": "IfCPdbitmcnO",
    "outputId": "1af0c244-dbad-437d-b612-a2d56b86910b"
   },
   "execution_count": null,
   "outputs": []
  },
  {
   "cell_type": "code",
   "source": [
    "%cd /content/acter-ner/term_extractor"
   ],
   "metadata": {
    "colab": {
     "base_uri": "https://localhost:8080/"
    },
    "id": "U0nNt6v-mJi-",
    "outputId": "065f833b-da3b-4607-c015-01cff5395b79"
   },
   "execution_count": null,
   "outputs": []
  },
  {
   "cell_type": "code",
   "source": [
    "ls"
   ],
   "metadata": {
    "colab": {
     "base_uri": "https://localhost:8080/"
    },
    "id": "tKm-vAEvmQW9",
    "outputId": "bbaee50f-f9ae-40cb-8adb-7fcbeaa75c6e"
   },
   "execution_count": null,
   "outputs": []
  },
  {
   "cell_type": "code",
   "source": [
    "!git checkout colab-dry-run"
   ],
   "metadata": {
    "colab": {
     "base_uri": "https://localhost:8080/"
    },
    "id": "b-6rpUVOol5A",
    "outputId": "e00f6ed0-62f1-4ab9-9e2b-040ed56976c6"
   },
   "execution_count": null,
   "outputs": []
  },
  {
   "cell_type": "code",
   "source": [
    "!bash combine_corpora.sh"
   ],
   "metadata": {
    "id": "1WlGm-kRl9tu"
   },
   "execution_count": null,
   "outputs": []
  },
  {
   "cell_type": "code",
   "source": [
    "!spacy convert --converter iob train_full.tsv output && \\\n",
    "  spacy convert --converter iob test_full.tsv output\n"
   ],
   "metadata": {
    "colab": {
     "base_uri": "https://localhost:8080/"
    },
    "id": "K52AmYesowiq",
    "outputId": "f447caa6-c77d-4993-bd79-f8a47bdab4a8"
   },
   "execution_count": null,
   "outputs": []
  },
  {
   "cell_type": "code",
   "source": [
    "!mkdir input_data && \\\n",
    "  mv output/train_full.spacy input_data/train_full.spacy && \\\n",
    "  mv output/test_full.spacy input_data/test_full.spacy"
   ],
   "metadata": {
    "id": "MW4g58A-pgXk"
   },
   "execution_count": null,
   "outputs": []
  },
  {
   "cell_type": "code",
   "source": [
    "!pip install 'spacy[transformers]' -q"
   ],
   "metadata": {
    "collapsed": true,
    "id": "hhr_t0BEp5Qs"
   },
   "execution_count": null,
   "outputs": []
  },
  {
   "cell_type": "code",
   "source": [
    "!spacy train configs/config_base.cfg"
   ],
   "metadata": {
    "colab": {
     "base_uri": "https://localhost:8080/"
    },
    "id": "ZaYbLOFUoqhx",
    "outputId": "81f6b7f8-59db-4bbc-cf5c-4830b8bd1cc8"
   },
   "execution_count": null,
   "outputs": []
  },
  {
   "cell_type": "code",
   "execution_count": null,
   "outputs": [],
   "source": [
    "from google.colab import runtime\n",
    "runtime.unassign()"
   ],
   "metadata": {
    "collapsed": false
   }
  }
 ]
}
